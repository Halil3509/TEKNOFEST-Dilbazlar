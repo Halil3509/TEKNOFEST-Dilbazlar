{
 "cells": [
  {
   "cell_type": "code",
   "execution_count": 1,
   "id": "468ff913-d153-44a8-8636-10d0de57b383",
   "metadata": {},
   "outputs": [],
   "source": [
    "import pandas as pd"
   ]
  },
  {
   "cell_type": "code",
   "execution_count": 2,
   "id": "b144064b-8938-4f12-9ed8-202b71886730",
   "metadata": {},
   "outputs": [],
   "source": [
    "pd.set_option('display.max_colwidth', None)"
   ]
  },
  {
   "cell_type": "code",
   "execution_count": 3,
   "id": "53a74afa-f437-46fc-821b-f002a5ca9f4d",
   "metadata": {},
   "outputs": [],
   "source": [
    "distimi_df = pd.read_csv(\"Data/ayiklanmis_distimi.csv\")"
   ]
  },
  {
   "cell_type": "code",
   "execution_count": 4,
   "id": "986c2102-a912-4496-8bfb-832e9f91e764",
   "metadata": {},
   "outputs": [],
   "source": [
    "labels = [\"agorafobi\", \"anksiyete\", \"panik\", \"fobi\", \"pmdd\", \"secici_dilsizlik\", \"sosyal_anksiyete\"]\n",
    "filenames = [\"agoraphobia_translated_to_tr_ayiklandi.xlsx\",\n",
    "             \"anksiyete_ayiklanmis_veriler.xlsx\",\n",
    "             \"panicdisorder_ayiklanmis_veri.xlsx\",\n",
    "             \"phobia_ayiklanmis_veri.xlsx\",\n",
    "             \"pmdd_expurgated.xlsx\",\n",
    "             \"selectivemutism_translated_to_tr.xlsx\",\n",
    "             \"socialanxiety_translated_to_tr.xlsx\"]"
   ]
  },
  {
   "cell_type": "code",
   "execution_count": 5,
   "id": "08d437fe-ac52-4ffe-b7a7-e52b6c7b7c38",
   "metadata": {},
   "outputs": [],
   "source": [
    "for label, filename in zip(labels, filenames):\n",
    "    df = pd.read_excel(f\"Data/{filename}\")\n",
    "    globals()[f\"{label}_df\"] = df"
   ]
  },
  {
   "cell_type": "code",
   "execution_count": 6,
   "id": "2585b251-8750-4432-879b-823c5d62cc58",
   "metadata": {},
   "outputs": [],
   "source": [
    "df_combined = pd.concat([agorafobi_df, anksiyete_df, panik_df, fobi_df, secici_dilsizlik_df, sosyal_anksiyete_df], ignore_index=True)\n",
    "df_combined.drop(columns=['Text'], inplace=True)\n",
    "df_combined['Result'] = \"Anksiyete\"\n",
    "df_combined.rename(columns={\"Result\": \"Label\", \"Translated_Text\": \"Text\"},  inplace=True)"
   ]
  },
  {
   "cell_type": "code",
   "execution_count": 7,
   "id": "44464cf5-96b4-4ba0-941f-d0db614fd2f6",
   "metadata": {},
   "outputs": [
    {
     "data": {
      "text/html": [
       "<div>\n",
       "<style scoped>\n",
       "    .dataframe tbody tr th:only-of-type {\n",
       "        vertical-align: middle;\n",
       "    }\n",
       "\n",
       "    .dataframe tbody tr th {\n",
       "        vertical-align: top;\n",
       "    }\n",
       "\n",
       "    .dataframe thead th {\n",
       "        text-align: right;\n",
       "    }\n",
       "</style>\n",
       "<table border=\"1\" class=\"dataframe\">\n",
       "  <thead>\n",
       "    <tr style=\"text-align: right;\">\n",
       "      <th></th>\n",
       "      <th>Label</th>\n",
       "      <th>Text</th>\n",
       "    </tr>\n",
       "  </thead>\n",
       "  <tbody>\n",
       "    <tr>\n",
       "      <th>0</th>\n",
       "      <td>Anksiyete</td>\n",
       "      <td>Sıkışmış hissetmek (yerine tekrar giriş yok, yiyecek ve içecek yok)</td>\n",
       "    </tr>\n",
       "    <tr>\n",
       "      <th>1</th>\n",
       "      <td>Anksiyete</td>\n",
       "      <td>Yakın zamanda başka bir şehre taşındım ve neler olduğunu bilmiyorum, ama etrafımdaki herkes hakkımda bok konuşuyor, komşularım benden nefret ediyor ve beni rahatsız etmek için beni aşağılamaya veya yere vurmaya devam ediyor, kasabamdaki insanlar benimle ilgili dedikodu yapıyor, artık arkadaşlarımla dışarı çıkamıyorum çünkü herkes benden nefret ediyor, ne yapacağımı bilmiyorum ve bunun neden olduğunu anlamıyorum, her gün panik atak geçiriyorum</td>\n",
       "    </tr>\n",
       "    <tr>\n",
       "      <th>2</th>\n",
       "      <td>Anksiyete</td>\n",
       "      <td>Panik atak geçirmenin eşiğindeydim, sadece bunu düşünüyordum.</td>\n",
       "    </tr>\n",
       "    <tr>\n",
       "      <th>3</th>\n",
       "      <td>Anksiyete</td>\n",
       "      <td>Geçen hafta maruz kalma terapimi yaparken sokakta panik atak geçirdim. İyileşmek için merdivende birkaç basamak düşürülmüş gibi hissediyorum. Bir zamanlar önemsiz görevlerin tekrar panik tepkisine neden olduğu bu tür aksilikler yaşayan başka biri var mı?</td>\n",
       "    </tr>\n",
       "    <tr>\n",
       "      <th>4</th>\n",
       "      <td>Anksiyete</td>\n",
       "      <td>Bazen özgüven ve benlik imajıyla çok mücadele ediyorum.</td>\n",
       "    </tr>\n",
       "    <tr>\n",
       "      <th>...</th>\n",
       "      <td>...</td>\n",
       "      <td>...</td>\n",
       "    </tr>\n",
       "    <tr>\n",
       "      <th>7345</th>\n",
       "      <td>Anksiyete</td>\n",
       "      <td>Birkaç yıl önce sosyal kaygıdan rahatsız olmuştum ve neredeyse intihar etmeme neden oluyordu.</td>\n",
       "    </tr>\n",
       "    <tr>\n",
       "      <th>7346</th>\n",
       "      <td>Anksiyete</td>\n",
       "      <td>Beynim, onları diğer insanların yargılarından güvenli olarak değerlendirmeden önce onların etrafında kendim olmama izin vermiyor.</td>\n",
       "    </tr>\n",
       "    <tr>\n",
       "      <th>7347</th>\n",
       "      <td>Anksiyete</td>\n",
       "      <td>Daha önce hiç konuşmadım ama şimdi bir yerden başlamazsam hiçbir yere varamayacağımı hissediyorum.</td>\n",
       "    </tr>\n",
       "    <tr>\n",
       "      <th>7348</th>\n",
       "      <td>Anksiyete</td>\n",
       "      <td>Geçtiğimiz 3 - 4 ay boyunca sosyal kaygılarım azaldı... Neredeyse her gün panik ataklarım var.</td>\n",
       "    </tr>\n",
       "    <tr>\n",
       "      <th>7349</th>\n",
       "      <td>Anksiyete</td>\n",
       "      <td>Otuz beş yaşında. İnsanlara sadece \"Merhaba\" derken bile kalp durur. Her gün. Bu duygular yıllardır her gün uğraştığım şeylerdir.</td>\n",
       "    </tr>\n",
       "  </tbody>\n",
       "</table>\n",
       "<p>7350 rows × 2 columns</p>\n",
       "</div>"
      ],
      "text/plain": [
       "          Label  \\\n",
       "0     Anksiyete   \n",
       "1     Anksiyete   \n",
       "2     Anksiyete   \n",
       "3     Anksiyete   \n",
       "4     Anksiyete   \n",
       "...         ...   \n",
       "7345  Anksiyete   \n",
       "7346  Anksiyete   \n",
       "7347  Anksiyete   \n",
       "7348  Anksiyete   \n",
       "7349  Anksiyete   \n",
       "\n",
       "                                                                                                                                                                                                                                                                                                                                                                                                                                                                Text  \n",
       "0                                                                                                                                                                                                                                                                                                                                                                                                Sıkışmış hissetmek (yerine tekrar giriş yok, yiyecek ve içecek yok)  \n",
       "1     Yakın zamanda başka bir şehre taşındım ve neler olduğunu bilmiyorum, ama etrafımdaki herkes hakkımda bok konuşuyor, komşularım benden nefret ediyor ve beni rahatsız etmek için beni aşağılamaya veya yere vurmaya devam ediyor, kasabamdaki insanlar benimle ilgili dedikodu yapıyor, artık arkadaşlarımla dışarı çıkamıyorum çünkü herkes benden nefret ediyor, ne yapacağımı bilmiyorum ve bunun neden olduğunu anlamıyorum, her gün panik atak geçiriyorum  \n",
       "2                                                                                                                                                                                                                                                                                                                                                                                                      Panik atak geçirmenin eşiğindeydim, sadece bunu düşünüyordum.  \n",
       "3                                                                                                                                                                                                     Geçen hafta maruz kalma terapimi yaparken sokakta panik atak geçirdim. İyileşmek için merdivende birkaç basamak düşürülmüş gibi hissediyorum. Bir zamanlar önemsiz görevlerin tekrar panik tepkisine neden olduğu bu tür aksilikler yaşayan başka biri var mı?  \n",
       "4                                                                                                                                                                                                                                                                                                                                                                                                            Bazen özgüven ve benlik imajıyla çok mücadele ediyorum.  \n",
       "...                                                                                                                                                                                                                                                                                                                                                                                                                                                              ...  \n",
       "7345                                                                                                                                                                                                                                                                                                                                                                   Birkaç yıl önce sosyal kaygıdan rahatsız olmuştum ve neredeyse intihar etmeme neden oluyordu.  \n",
       "7346                                                                                                                                                                                                                                                                                                                               Beynim, onları diğer insanların yargılarından güvenli olarak değerlendirmeden önce onların etrafında kendim olmama izin vermiyor.  \n",
       "7347                                                                                                                                                                                                                                                                                                                                                              Daha önce hiç konuşmadım ama şimdi bir yerden başlamazsam hiçbir yere varamayacağımı hissediyorum.  \n",
       "7348                                                                                                                                                                                                                                                                                                                                                                  Geçtiğimiz 3 - 4 ay boyunca sosyal kaygılarım azaldı... Neredeyse her gün panik ataklarım var.  \n",
       "7349                                                                                                                                                                                                                                                                                                                               Otuz beş yaşında. İnsanlara sadece \"Merhaba\" derken bile kalp durur. Her gün. Bu duygular yıllardır her gün uğraştığım şeylerdir.  \n",
       "\n",
       "[7350 rows x 2 columns]"
      ]
     },
     "execution_count": 7,
     "metadata": {},
     "output_type": "execute_result"
    }
   ],
   "source": [
    "df_combined"
   ]
  },
  {
   "cell_type": "markdown",
   "id": "cc1b1e2b-20fe-4db3-a7ad-5aa9712c91bf",
   "metadata": {},
   "source": []
  },
  {
   "cell_type": "code",
   "execution_count": null,
   "id": "e7786546-8374-4ee4-849e-3179a14deed0",
   "metadata": {},
   "outputs": [],
   "source": []
  }
 ],
 "metadata": {
  "kernelspec": {
   "display_name": "Python 3 (ipykernel)",
   "language": "python",
   "name": "python3"
  },
  "language_info": {
   "codemirror_mode": {
    "name": "ipython",
    "version": 3
   },
   "file_extension": ".py",
   "mimetype": "text/x-python",
   "name": "python",
   "nbconvert_exporter": "python",
   "pygments_lexer": "ipython3",
   "version": "3.10.2"
  }
 },
 "nbformat": 4,
 "nbformat_minor": 5
}
