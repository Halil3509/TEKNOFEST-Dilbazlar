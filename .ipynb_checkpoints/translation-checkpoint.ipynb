{
 "cells": [
  {
   "cell_type": "code",
   "execution_count": 1,
   "id": "be87c1f3-27f8-40a9-b8c3-6eb08c4624d1",
   "metadata": {},
   "outputs": [],
   "source": [
    "from transformers import AutoTokenizer, AutoModelForSeq2SeqLM\n",
    "import torch\n",
    "import pandas as pd"
   ]
  },
  {
   "cell_type": "code",
   "execution_count": 2,
   "id": "5b993339-a065-4832-a570-f32796666799",
   "metadata": {},
   "outputs": [],
   "source": [
    "data = pd.read_excel(\"Data/panicdisorder_llm_filtered_en.xlsx\")"
   ]
  },
  {
   "cell_type": "markdown",
   "id": "86024989-34b3-4f01-9fe1-4ac682b7990c",
   "metadata": {},
   "source": [
    "data = pd.read_excel(\"Data/depression_llm_filtered_en.xlsx\")"
   ]
  },
  {
   "cell_type": "code",
   "execution_count": 3,
   "id": "62c9ef8b-fbeb-4f75-8b8c-0f122be83bfe",
   "metadata": {},
   "outputs": [],
   "source": [
    "pd.set_option('display.max_colwidth', None)"
   ]
  },
  {
   "cell_type": "code",
   "execution_count": 4,
   "id": "c974a4c3-5809-45a8-a392-fa4f364883ea",
   "metadata": {},
   "outputs": [
    {
     "name": "stdout",
     "output_type": "stream",
     "text": [
      "<class 'pandas.core.frame.DataFrame'>\n",
      "RangeIndex: 998 entries, 0 to 997\n",
      "Data columns (total 2 columns):\n",
      " #   Column  Non-Null Count  Dtype \n",
      "---  ------  --------------  ----- \n",
      " 0   Result  998 non-null    object\n",
      " 1   Text    998 non-null    object\n",
      "dtypes: object(2)\n",
      "memory usage: 15.7+ KB\n"
     ]
    }
   ],
   "source": [
    "data.info()"
   ]
  },
  {
   "cell_type": "markdown",
   "id": "63e3c954-1006-42e1-8670-8d2e2aa138a1",
   "metadata": {},
   "source": [
    "data = data[data['Text'].apply(lambda x: isinstance(x, str))]"
   ]
  },
  {
   "cell_type": "markdown",
   "id": "2a70d084-1c20-4306-afaf-bf9ef533a774",
   "metadata": {},
   "source": [
    "data.info()"
   ]
  },
  {
   "cell_type": "code",
   "execution_count": 5,
   "id": "f5ab5a82-218d-4c60-8210-e94bfa447a74",
   "metadata": {},
   "outputs": [
    {
     "data": {
      "text/html": [
       "<div>\n",
       "<style scoped>\n",
       "    .dataframe tbody tr th:only-of-type {\n",
       "        vertical-align: middle;\n",
       "    }\n",
       "\n",
       "    .dataframe tbody tr th {\n",
       "        vertical-align: top;\n",
       "    }\n",
       "\n",
       "    .dataframe thead th {\n",
       "        text-align: right;\n",
       "    }\n",
       "</style>\n",
       "<table border=\"1\" class=\"dataframe\">\n",
       "  <thead>\n",
       "    <tr style=\"text-align: right;\">\n",
       "      <th></th>\n",
       "      <th>Result</th>\n",
       "      <th>Text</th>\n",
       "    </tr>\n",
       "  </thead>\n",
       "  <tbody>\n",
       "    <tr>\n",
       "      <th>0</th>\n",
       "      <td>yes</td>\n",
       "      <td>had higher anxiety and a panic attack later that night but survived all of that too. ...my stomach was really bothering me last night and this morning, ibs + anxiety, but i went despite my brain telling me not to because of all the what ifs.</td>\n",
       "    </tr>\n",
       "    <tr>\n",
       "      <th>1</th>\n",
       "      <td>yes</td>\n",
       "      <td>I wake up feeling confused, on the verge of passing out, shaking really badly, feeling cold while also sweating, my mouth as dry as a desert. My heart rate skyrockets and my breathing becomes really weird, making it hard for me to get any air at all. My head is spinning, my vision gets fucked up. My pupils also become so dialated to the point my eyes seem completely black.</td>\n",
       "    </tr>\n",
       "    <tr>\n",
       "      <th>2</th>\n",
       "      <td>yes</td>\n",
       "      <td>I don’t know about anyone else but I certainly hate the mandatory happiness everyone is supposed to feel during the Christmas/New Years holidays! ... Remember you can feel shitty even in this time of the year and there is nothing wrong with that! ... It’s been a super stressful season for me, I’ll tell you that much, guys, but I know one thing - I’ll survive it and so will you! Experiencing new symptoms? You’ll survive those too and learn how to cope with them! Experiencing old symptoms? Ehhh, you’re a veteran by now and you know damn well how to get over them. This too shall pass! Everything will be ok!</td>\n",
       "    </tr>\n",
       "    <tr>\n",
       "      <th>3</th>\n",
       "      <td>yes</td>\n",
       "      <td>3+ full panic attacks a day everyday for months last year... My depression, anxiety, panic disorder and likely cptsd from my abusive dad, mom and stepmom took its toll. I’ve had suicidal thoughts multiple times per year every year for over 10 years and an attempt in 2015. Last year I was in inpatient for a bit because it was the closest I was since my attempt.</td>\n",
       "    </tr>\n",
       "    <tr>\n",
       "      <th>4</th>\n",
       "      <td>yes</td>\n",
       "      <td>I started having a panic attack while at the laundromat. 'I'm far from home and I have no klonopin to calm me down' is the thought that triggered it.</td>\n",
       "    </tr>\n",
       "  </tbody>\n",
       "</table>\n",
       "</div>"
      ],
      "text/plain": [
       "  Result  \\\n",
       "0    yes   \n",
       "1    yes   \n",
       "2    yes   \n",
       "3    yes   \n",
       "4    yes   \n",
       "\n",
       "                                                                                                                                                                                                                                                                                                                                                                                                                                                                                                                                                                                                                                  Text  \n",
       "0                                                                                                                                                                                                                                                                                                                                                                                    had higher anxiety and a panic attack later that night but survived all of that too. ...my stomach was really bothering me last night and this morning, ibs + anxiety, but i went despite my brain telling me not to because of all the what ifs.  \n",
       "1                                                                                                                                                                                                                                              I wake up feeling confused, on the verge of passing out, shaking really badly, feeling cold while also sweating, my mouth as dry as a desert. My heart rate skyrockets and my breathing becomes really weird, making it hard for me to get any air at all. My head is spinning, my vision gets fucked up. My pupils also become so dialated to the point my eyes seem completely black.  \n",
       "2  I don’t know about anyone else but I certainly hate the mandatory happiness everyone is supposed to feel during the Christmas/New Years holidays! ... Remember you can feel shitty even in this time of the year and there is nothing wrong with that! ... It’s been a super stressful season for me, I’ll tell you that much, guys, but I know one thing - I’ll survive it and so will you! Experiencing new symptoms? You’ll survive those too and learn how to cope with them! Experiencing old symptoms? Ehhh, you’re a veteran by now and you know damn well how to get over them. This too shall pass! Everything will be ok!  \n",
       "3                                                                                                                                                                                                                                                           3+ full panic attacks a day everyday for months last year... My depression, anxiety, panic disorder and likely cptsd from my abusive dad, mom and stepmom took its toll. I’ve had suicidal thoughts multiple times per year every year for over 10 years and an attempt in 2015. Last year I was in inpatient for a bit because it was the closest I was since my attempt.  \n",
       "4                                                                                                                                                                                                                                                                                                                                                                                                                                                                                I started having a panic attack while at the laundromat. 'I'm far from home and I have no klonopin to calm me down' is the thought that triggered it.  "
      ]
     },
     "execution_count": 5,
     "metadata": {},
     "output_type": "execute_result"
    }
   ],
   "source": [
    "data.head()"
   ]
  },
  {
   "cell_type": "code",
   "execution_count": 6,
   "id": "c4922343-4e2a-45bc-990a-63dd58f6f1f5",
   "metadata": {},
   "outputs": [
    {
     "name": "stderr",
     "output_type": "stream",
     "text": [
      "C:\\Users\\ensar\\Desktop\\dogaldilisleme\\lib\\site-packages\\transformers\\models\\marian\\tokenization_marian.py:175: UserWarning: Recommended: pip install sacremoses.\n",
      "  warnings.warn(\"Recommended: pip install sacremoses.\")\n"
     ]
    },
    {
     "name": "stdout",
     "output_type": "stream",
     "text": [
      "    Result  \\\n",
      "0      yes   \n",
      "1      yes   \n",
      "2      yes   \n",
      "3      yes   \n",
      "4      yes   \n",
      "..     ...   \n",
      "993    yes   \n",
      "994    yes   \n",
      "995    yes   \n",
      "996    yes   \n",
      "997    yes   \n",
      "\n",
      "                                                                                                                                                                                                                                                                                                                                                                                                                                                                                                                                                                                                                                    Text  \\\n",
      "0                                                                                                                                                                                                                                                                                                                                                                                      had higher anxiety and a panic attack later that night but survived all of that too. ...my stomach was really bothering me last night and this morning, ibs + anxiety, but i went despite my brain telling me not to because of all the what ifs.   \n",
      "1                                                                                                                                                                                                                                                I wake up feeling confused, on the verge of passing out, shaking really badly, feeling cold while also sweating, my mouth as dry as a desert. My heart rate skyrockets and my breathing becomes really weird, making it hard for me to get any air at all. My head is spinning, my vision gets fucked up. My pupils also become so dialated to the point my eyes seem completely black.   \n",
      "2    I don’t know about anyone else but I certainly hate the mandatory happiness everyone is supposed to feel during the Christmas/New Years holidays! ... Remember you can feel shitty even in this time of the year and there is nothing wrong with that! ... It’s been a super stressful season for me, I’ll tell you that much, guys, but I know one thing - I’ll survive it and so will you! Experiencing new symptoms? You’ll survive those too and learn how to cope with them! Experiencing old symptoms? Ehhh, you’re a veteran by now and you know damn well how to get over them. This too shall pass! Everything will be ok!   \n",
      "3                                                                                                                                                                                                                                                             3+ full panic attacks a day everyday for months last year... My depression, anxiety, panic disorder and likely cptsd from my abusive dad, mom and stepmom took its toll. I’ve had suicidal thoughts multiple times per year every year for over 10 years and an attempt in 2015. Last year I was in inpatient for a bit because it was the closest I was since my attempt.   \n",
      "4                                                                                                                                                                                                                                                                                                                                                                                                                                                                                  I started having a panic attack while at the laundromat. 'I'm far from home and I have no klonopin to calm me down' is the thought that triggered it.   \n",
      "..                                                                                                                                                                                                                                                                                                                                                                                                                                                                                                                                                                                                                                   ...   \n",
      "993                                                                                                                                                                                                                                                                                                                                                                                                                                                            I have had panic attacks for most of my life, today has been particularly challenging. I have had waves of panic attacks over the course of about four or five hours now.   \n",
      "994                                                                                                                                                                                                                                                                I had a bad panic attack from dpdr a couple years ago and I didn’t know what it was at the time. The panic attack caused me to be bed ridden and not eat from constant nausea. Whenever I feel a panic attack coming on, I always panic even more because I think I’m gunna end up how I did the first time. It’s almost like I have ptsd from my first panic attack.   \n",
      "995                                                                                                                                                                                                                                                                                                                                                                                                                                                                                      I have tried various medications but I still have occasional panic attacks. I have panic attacks especially during stressful or new situations.   \n",
      "996                                                                                                                                                                                                                                                                                                                                                                                                                                                                                                I haven't been able to go to her since the panic got had and agoraphobia set in. ... My body's feeling all kinds of things right now.   \n",
      "997                                                                                                                                                                                                                                                  a sense of panic had woke me up during my sleep. It’s almost like my mind is telling my body “get up, you’re about to have a panic attack” ... I feel uneasy. I feel worried. I feel uncomfortable and tense. ... I’m feeling sad and helpless especially due to the fact that this is now happening during the one time I want peace and rest, which is at night when I’m sleeping   \n",
      "\n",
      "                                                                                                                                                                                                                                                                                                                                                                                                       Translated_Text  \n",
      "0                                                                                                                                      O gecenin ilerleyen saatlerinde daha yüksek bir endişe ve panik atak vardı ama tüm bunlardan da kurtuldum....benim midem dün gece ve bu sabah beni gerçekten rahatsız ediyordu, ibs + anksiyete, ama beynimin bana tüm bu olanlar yüzünden yapmamamı söylemesine rağmen gittim.  \n",
      "1                                     Kafam karıştı, dışarı çıkmanın eşiğinde, çok kötü sallanmanın eşiğinde uyanıyorum, aynı zamanda terlerken soğuk hissediyorum, ağzım bir çöl kadar kuru. Kalp atış hızım ve nefes alışım gerçekten garipleşiyor, bu da herhangi bir hava almamı zorlaştırıyor. Başım dönüyor, görüşüm boka batıyor. Gözbebeklerim de gözlerimin tamamen siyah göründüğü noktaya kadar çevriliyor.  \n",
      "2    Başkasını bilmiyorum ama kesinlikle Noel / Yeni Yıl tatillerinde herkesin hissetmesi gereken zorunlu mutluluktan nefret ediyorum!... Yılın bu zamanında bile kendinizi boktan hissedebilirsiniz ve bunda yanlış bir şey yok!... Benim için çok stresli bir sezon oldu, size o kadar çok şey anlatacağım, çocuklar, ama şimdi bir şey biliyorum! Bu semptomları nasıl yaşayacağım ve onlarla nasıl başa çıkacağım?  \n",
      "3                                3+ tam panik ataklar her gün bir ay boyunca geçen yıl... Depresyonum, anksiyetem, panik bozukluğum ve muhtemelen küfürlü babamdan, annemden ve üvey annemden gelen cptsd'm zarar gördü. 10 yılı aşkın bir süredir her yıl birçok kez intihar düşünceleri yaşadım ve 2015 yılında bir girişimde bulundum. Geçen yıl biraz hastaydım çünkü girişimimden bu yana en yakın olduğum yerdi.  \n",
      "4                                                                                                                                                                                                                                                                              Çamaşırhanede panik atak geçirmeye başladım. 'Evden çok uzaktayım ve beni sakinleştirecek bir klonopinim yok' düşüncesi bunu tetikledi.  \n",
      "..                                                                                                                                                                                                                                                                                                                                                                                                                 ...  \n",
      "993                                                                                                                                                                                                                                                                  Hayatımın büyük bir kısmında panik ataklar geçirdim, bugün özellikle zorluydu. Yaklaşık dört ya da beş saat boyunca panik atak dalgaları yaşadım.  \n",
      "994                                                             Birkaç yıl önce dpdr'dan kötü bir panik atak geçirdim ve o sırada ne olduğunu bilmiyordum. Panik atak, yatağa yatmama ve sürekli mide bulantısından yemek yememe neden oldu. Ne zaman bir panik atak olduğunu hissetsem, her zaman daha da fazla panikliyorum çünkü ilk kez yaptığım gibi olduğumu düşünüyorum. Neredeyse ilk panik ataktan psd'm var.  \n",
      "995                                                                                                                                                                                                                                                                                   Çeşitli ilaçlar denedim, ancak yine de ara sıra panik ataklarım var. Özellikle stresli veya yeni durumlarda panik ataklarım var.  \n",
      "996                                                                                                                                                                                                                                                                                                                     Panik ve agorafobi başladığından beri ona gidemedim vücudum şu anda her türlü şeyi hissediyor.  \n",
      "997                                                                         Bir panik duygusu beni uykum sırasında uyandırmıştı. Neredeyse zihnim vücuduma \"kalk, panik atak geçirmek üzeresin\" diyor gibi... huzursuz hissediyorum. Endişeliyim ve gergin hissediyorum.... Özellikle bunun şimdi huzur ve dinlenme istediğim bir anda gerçekleşmesi nedeniyle üzgün ve çaresiz hissediyorum, bu da geceleri uyuyorum.  \n",
      "\n",
      "[998 rows x 3 columns]\n"
     ]
    }
   ],
   "source": [
    "from transformers import MarianMTModel, MarianTokenizer\n",
    "\n",
    "model_name = \"Helsinki-NLP/opus-mt-tc-big-en-tr\"\n",
    "tokenizer = MarianTokenizer.from_pretrained(model_name)\n",
    "model = MarianMTModel.from_pretrained(model_name)\n",
    "\n",
    "device = torch.device(\"cuda\" if torch.cuda.is_available() else \"cpu\")\n",
    "model.to(device)\n",
    "\n",
    "def batch_translate_text(texts, batch_size=8):\n",
    "    translated_texts = []\n",
    "    for i in range(0, len(texts), batch_size):\n",
    "        batch_texts = texts[i:i + batch_size]\n",
    "        inputs = tokenizer(batch_texts, return_tensors=\"pt\", padding=True, truncation=True).to(device)\n",
    "        translated = model.generate(**inputs)\n",
    "        translated_batch = [tokenizer.decode(t, skip_special_tokens=True) for t in translated]\n",
    "        translated_texts.extend(translated_batch)\n",
    "    return translated_texts\n",
    "\n",
    "texts = data['Text'].tolist()\n",
    "translated_texts = batch_translate_text(texts)\n",
    "\n",
    "data['Translated_Text'] = translated_texts\n",
    "\n",
    "print(data)"
   ]
  },
  {
   "cell_type": "code",
   "execution_count": 7,
   "id": "a97f3815-5a4e-42e0-959f-a318e13f1cbe",
   "metadata": {},
   "outputs": [
    {
     "data": {
      "text/html": [
       "<div>\n",
       "<style scoped>\n",
       "    .dataframe tbody tr th:only-of-type {\n",
       "        vertical-align: middle;\n",
       "    }\n",
       "\n",
       "    .dataframe tbody tr th {\n",
       "        vertical-align: top;\n",
       "    }\n",
       "\n",
       "    .dataframe thead th {\n",
       "        text-align: right;\n",
       "    }\n",
       "</style>\n",
       "<table border=\"1\" class=\"dataframe\">\n",
       "  <thead>\n",
       "    <tr style=\"text-align: right;\">\n",
       "      <th></th>\n",
       "      <th>Result</th>\n",
       "      <th>Text</th>\n",
       "      <th>Translated_Text</th>\n",
       "    </tr>\n",
       "  </thead>\n",
       "  <tbody>\n",
       "    <tr>\n",
       "      <th>0</th>\n",
       "      <td>yes</td>\n",
       "      <td>had higher anxiety and a panic attack later that night but survived all of that too. ...my stomach was really bothering me last night and this morning, ibs + anxiety, but i went despite my brain telling me not to because of all the what ifs.</td>\n",
       "      <td>O gecenin ilerleyen saatlerinde daha yüksek bir endişe ve panik atak vardı ama tüm bunlardan da kurtuldum....benim midem dün gece ve bu sabah beni gerçekten rahatsız ediyordu, ibs + anksiyete, ama beynimin bana tüm bu olanlar yüzünden yapmamamı söylemesine rağmen gittim.</td>\n",
       "    </tr>\n",
       "    <tr>\n",
       "      <th>1</th>\n",
       "      <td>yes</td>\n",
       "      <td>I wake up feeling confused, on the verge of passing out, shaking really badly, feeling cold while also sweating, my mouth as dry as a desert. My heart rate skyrockets and my breathing becomes really weird, making it hard for me to get any air at all. My head is spinning, my vision gets fucked up. My pupils also become so dialated to the point my eyes seem completely black.</td>\n",
       "      <td>Kafam karıştı, dışarı çıkmanın eşiğinde, çok kötü sallanmanın eşiğinde uyanıyorum, aynı zamanda terlerken soğuk hissediyorum, ağzım bir çöl kadar kuru. Kalp atış hızım ve nefes alışım gerçekten garipleşiyor, bu da herhangi bir hava almamı zorlaştırıyor. Başım dönüyor, görüşüm boka batıyor. Gözbebeklerim de gözlerimin tamamen siyah göründüğü noktaya kadar çevriliyor.</td>\n",
       "    </tr>\n",
       "    <tr>\n",
       "      <th>2</th>\n",
       "      <td>yes</td>\n",
       "      <td>I don’t know about anyone else but I certainly hate the mandatory happiness everyone is supposed to feel during the Christmas/New Years holidays! ... Remember you can feel shitty even in this time of the year and there is nothing wrong with that! ... It’s been a super stressful season for me, I’ll tell you that much, guys, but I know one thing - I’ll survive it and so will you! Experiencing new symptoms? You’ll survive those too and learn how to cope with them! Experiencing old symptoms? Ehhh, you’re a veteran by now and you know damn well how to get over them. This too shall pass! Everything will be ok!</td>\n",
       "      <td>Başkasını bilmiyorum ama kesinlikle Noel / Yeni Yıl tatillerinde herkesin hissetmesi gereken zorunlu mutluluktan nefret ediyorum!... Yılın bu zamanında bile kendinizi boktan hissedebilirsiniz ve bunda yanlış bir şey yok!... Benim için çok stresli bir sezon oldu, size o kadar çok şey anlatacağım, çocuklar, ama şimdi bir şey biliyorum! Bu semptomları nasıl yaşayacağım ve onlarla nasıl başa çıkacağım?</td>\n",
       "    </tr>\n",
       "    <tr>\n",
       "      <th>3</th>\n",
       "      <td>yes</td>\n",
       "      <td>3+ full panic attacks a day everyday for months last year... My depression, anxiety, panic disorder and likely cptsd from my abusive dad, mom and stepmom took its toll. I’ve had suicidal thoughts multiple times per year every year for over 10 years and an attempt in 2015. Last year I was in inpatient for a bit because it was the closest I was since my attempt.</td>\n",
       "      <td>3+ tam panik ataklar her gün bir ay boyunca geçen yıl... Depresyonum, anksiyetem, panik bozukluğum ve muhtemelen küfürlü babamdan, annemden ve üvey annemden gelen cptsd'm zarar gördü. 10 yılı aşkın bir süredir her yıl birçok kez intihar düşünceleri yaşadım ve 2015 yılında bir girişimde bulundum. Geçen yıl biraz hastaydım çünkü girişimimden bu yana en yakın olduğum yerdi.</td>\n",
       "    </tr>\n",
       "    <tr>\n",
       "      <th>4</th>\n",
       "      <td>yes</td>\n",
       "      <td>I started having a panic attack while at the laundromat. 'I'm far from home and I have no klonopin to calm me down' is the thought that triggered it.</td>\n",
       "      <td>Çamaşırhanede panik atak geçirmeye başladım. 'Evden çok uzaktayım ve beni sakinleştirecek bir klonopinim yok' düşüncesi bunu tetikledi.</td>\n",
       "    </tr>\n",
       "    <tr>\n",
       "      <th>...</th>\n",
       "      <td>...</td>\n",
       "      <td>...</td>\n",
       "      <td>...</td>\n",
       "    </tr>\n",
       "    <tr>\n",
       "      <th>993</th>\n",
       "      <td>yes</td>\n",
       "      <td>I have had panic attacks for most of my life, today has been particularly challenging. I have had waves of panic attacks over the course of about four or five hours now.</td>\n",
       "      <td>Hayatımın büyük bir kısmında panik ataklar geçirdim, bugün özellikle zorluydu. Yaklaşık dört ya da beş saat boyunca panik atak dalgaları yaşadım.</td>\n",
       "    </tr>\n",
       "    <tr>\n",
       "      <th>994</th>\n",
       "      <td>yes</td>\n",
       "      <td>I had a bad panic attack from dpdr a couple years ago and I didn’t know what it was at the time. The panic attack caused me to be bed ridden and not eat from constant nausea. Whenever I feel a panic attack coming on, I always panic even more because I think I’m gunna end up how I did the first time. It’s almost like I have ptsd from my first panic attack.</td>\n",
       "      <td>Birkaç yıl önce dpdr'dan kötü bir panik atak geçirdim ve o sırada ne olduğunu bilmiyordum. Panik atak, yatağa yatmama ve sürekli mide bulantısından yemek yememe neden oldu. Ne zaman bir panik atak olduğunu hissetsem, her zaman daha da fazla panikliyorum çünkü ilk kez yaptığım gibi olduğumu düşünüyorum. Neredeyse ilk panik ataktan psd'm var.</td>\n",
       "    </tr>\n",
       "    <tr>\n",
       "      <th>995</th>\n",
       "      <td>yes</td>\n",
       "      <td>I have tried various medications but I still have occasional panic attacks. I have panic attacks especially during stressful or new situations.</td>\n",
       "      <td>Çeşitli ilaçlar denedim, ancak yine de ara sıra panik ataklarım var. Özellikle stresli veya yeni durumlarda panik ataklarım var.</td>\n",
       "    </tr>\n",
       "    <tr>\n",
       "      <th>996</th>\n",
       "      <td>yes</td>\n",
       "      <td>I haven't been able to go to her since the panic got had and agoraphobia set in. ... My body's feeling all kinds of things right now.</td>\n",
       "      <td>Panik ve agorafobi başladığından beri ona gidemedim vücudum şu anda her türlü şeyi hissediyor.</td>\n",
       "    </tr>\n",
       "    <tr>\n",
       "      <th>997</th>\n",
       "      <td>yes</td>\n",
       "      <td>a sense of panic had woke me up during my sleep. It’s almost like my mind is telling my body “get up, you’re about to have a panic attack” ... I feel uneasy. I feel worried. I feel uncomfortable and tense. ... I’m feeling sad and helpless especially due to the fact that this is now happening during the one time I want peace and rest, which is at night when I’m sleeping</td>\n",
       "      <td>Bir panik duygusu beni uykum sırasında uyandırmıştı. Neredeyse zihnim vücuduma \"kalk, panik atak geçirmek üzeresin\" diyor gibi... huzursuz hissediyorum. Endişeliyim ve gergin hissediyorum.... Özellikle bunun şimdi huzur ve dinlenme istediğim bir anda gerçekleşmesi nedeniyle üzgün ve çaresiz hissediyorum, bu da geceleri uyuyorum.</td>\n",
       "    </tr>\n",
       "  </tbody>\n",
       "</table>\n",
       "<p>998 rows × 3 columns</p>\n",
       "</div>"
      ],
      "text/plain": [
       "    Result  \\\n",
       "0      yes   \n",
       "1      yes   \n",
       "2      yes   \n",
       "3      yes   \n",
       "4      yes   \n",
       "..     ...   \n",
       "993    yes   \n",
       "994    yes   \n",
       "995    yes   \n",
       "996    yes   \n",
       "997    yes   \n",
       "\n",
       "                                                                                                                                                                                                                                                                                                                                                                                                                                                                                                                                                                                                                                    Text  \\\n",
       "0                                                                                                                                                                                                                                                                                                                                                                                      had higher anxiety and a panic attack later that night but survived all of that too. ...my stomach was really bothering me last night and this morning, ibs + anxiety, but i went despite my brain telling me not to because of all the what ifs.   \n",
       "1                                                                                                                                                                                                                                                I wake up feeling confused, on the verge of passing out, shaking really badly, feeling cold while also sweating, my mouth as dry as a desert. My heart rate skyrockets and my breathing becomes really weird, making it hard for me to get any air at all. My head is spinning, my vision gets fucked up. My pupils also become so dialated to the point my eyes seem completely black.   \n",
       "2    I don’t know about anyone else but I certainly hate the mandatory happiness everyone is supposed to feel during the Christmas/New Years holidays! ... Remember you can feel shitty even in this time of the year and there is nothing wrong with that! ... It’s been a super stressful season for me, I’ll tell you that much, guys, but I know one thing - I’ll survive it and so will you! Experiencing new symptoms? You’ll survive those too and learn how to cope with them! Experiencing old symptoms? Ehhh, you’re a veteran by now and you know damn well how to get over them. This too shall pass! Everything will be ok!   \n",
       "3                                                                                                                                                                                                                                                             3+ full panic attacks a day everyday for months last year... My depression, anxiety, panic disorder and likely cptsd from my abusive dad, mom and stepmom took its toll. I’ve had suicidal thoughts multiple times per year every year for over 10 years and an attempt in 2015. Last year I was in inpatient for a bit because it was the closest I was since my attempt.   \n",
       "4                                                                                                                                                                                                                                                                                                                                                                                                                                                                                  I started having a panic attack while at the laundromat. 'I'm far from home and I have no klonopin to calm me down' is the thought that triggered it.   \n",
       "..                                                                                                                                                                                                                                                                                                                                                                                                                                                                                                                                                                                                                                   ...   \n",
       "993                                                                                                                                                                                                                                                                                                                                                                                                                                                            I have had panic attacks for most of my life, today has been particularly challenging. I have had waves of panic attacks over the course of about four or five hours now.   \n",
       "994                                                                                                                                                                                                                                                                I had a bad panic attack from dpdr a couple years ago and I didn’t know what it was at the time. The panic attack caused me to be bed ridden and not eat from constant nausea. Whenever I feel a panic attack coming on, I always panic even more because I think I’m gunna end up how I did the first time. It’s almost like I have ptsd from my first panic attack.   \n",
       "995                                                                                                                                                                                                                                                                                                                                                                                                                                                                                      I have tried various medications but I still have occasional panic attacks. I have panic attacks especially during stressful or new situations.   \n",
       "996                                                                                                                                                                                                                                                                                                                                                                                                                                                                                                I haven't been able to go to her since the panic got had and agoraphobia set in. ... My body's feeling all kinds of things right now.   \n",
       "997                                                                                                                                                                                                                                                  a sense of panic had woke me up during my sleep. It’s almost like my mind is telling my body “get up, you’re about to have a panic attack” ... I feel uneasy. I feel worried. I feel uncomfortable and tense. ... I’m feeling sad and helpless especially due to the fact that this is now happening during the one time I want peace and rest, which is at night when I’m sleeping   \n",
       "\n",
       "                                                                                                                                                                                                                                                                                                                                                                                                       Translated_Text  \n",
       "0                                                                                                                                      O gecenin ilerleyen saatlerinde daha yüksek bir endişe ve panik atak vardı ama tüm bunlardan da kurtuldum....benim midem dün gece ve bu sabah beni gerçekten rahatsız ediyordu, ibs + anksiyete, ama beynimin bana tüm bu olanlar yüzünden yapmamamı söylemesine rağmen gittim.  \n",
       "1                                     Kafam karıştı, dışarı çıkmanın eşiğinde, çok kötü sallanmanın eşiğinde uyanıyorum, aynı zamanda terlerken soğuk hissediyorum, ağzım bir çöl kadar kuru. Kalp atış hızım ve nefes alışım gerçekten garipleşiyor, bu da herhangi bir hava almamı zorlaştırıyor. Başım dönüyor, görüşüm boka batıyor. Gözbebeklerim de gözlerimin tamamen siyah göründüğü noktaya kadar çevriliyor.  \n",
       "2    Başkasını bilmiyorum ama kesinlikle Noel / Yeni Yıl tatillerinde herkesin hissetmesi gereken zorunlu mutluluktan nefret ediyorum!... Yılın bu zamanında bile kendinizi boktan hissedebilirsiniz ve bunda yanlış bir şey yok!... Benim için çok stresli bir sezon oldu, size o kadar çok şey anlatacağım, çocuklar, ama şimdi bir şey biliyorum! Bu semptomları nasıl yaşayacağım ve onlarla nasıl başa çıkacağım?  \n",
       "3                                3+ tam panik ataklar her gün bir ay boyunca geçen yıl... Depresyonum, anksiyetem, panik bozukluğum ve muhtemelen küfürlü babamdan, annemden ve üvey annemden gelen cptsd'm zarar gördü. 10 yılı aşkın bir süredir her yıl birçok kez intihar düşünceleri yaşadım ve 2015 yılında bir girişimde bulundum. Geçen yıl biraz hastaydım çünkü girişimimden bu yana en yakın olduğum yerdi.  \n",
       "4                                                                                                                                                                                                                                                                              Çamaşırhanede panik atak geçirmeye başladım. 'Evden çok uzaktayım ve beni sakinleştirecek bir klonopinim yok' düşüncesi bunu tetikledi.  \n",
       "..                                                                                                                                                                                                                                                                                                                                                                                                                 ...  \n",
       "993                                                                                                                                                                                                                                                                  Hayatımın büyük bir kısmında panik ataklar geçirdim, bugün özellikle zorluydu. Yaklaşık dört ya da beş saat boyunca panik atak dalgaları yaşadım.  \n",
       "994                                                             Birkaç yıl önce dpdr'dan kötü bir panik atak geçirdim ve o sırada ne olduğunu bilmiyordum. Panik atak, yatağa yatmama ve sürekli mide bulantısından yemek yememe neden oldu. Ne zaman bir panik atak olduğunu hissetsem, her zaman daha da fazla panikliyorum çünkü ilk kez yaptığım gibi olduğumu düşünüyorum. Neredeyse ilk panik ataktan psd'm var.  \n",
       "995                                                                                                                                                                                                                                                                                   Çeşitli ilaçlar denedim, ancak yine de ara sıra panik ataklarım var. Özellikle stresli veya yeni durumlarda panik ataklarım var.  \n",
       "996                                                                                                                                                                                                                                                                                                                     Panik ve agorafobi başladığından beri ona gidemedim vücudum şu anda her türlü şeyi hissediyor.  \n",
       "997                                                                         Bir panik duygusu beni uykum sırasında uyandırmıştı. Neredeyse zihnim vücuduma \"kalk, panik atak geçirmek üzeresin\" diyor gibi... huzursuz hissediyorum. Endişeliyim ve gergin hissediyorum.... Özellikle bunun şimdi huzur ve dinlenme istediğim bir anda gerçekleşmesi nedeniyle üzgün ve çaresiz hissediyorum, bu da geceleri uyuyorum.  \n",
       "\n",
       "[998 rows x 3 columns]"
      ]
     },
     "execution_count": 7,
     "metadata": {},
     "output_type": "execute_result"
    }
   ],
   "source": [
    "data"
   ]
  },
  {
   "cell_type": "code",
   "execution_count": 8,
   "id": "38bd8822-25c0-4650-9842-e4336d96c4f4",
   "metadata": {},
   "outputs": [],
   "source": [
    "data.to_excel(\"panicdisorder_translated_to_tr.xlsx\", index=False)"
   ]
  },
  {
   "cell_type": "code",
   "execution_count": null,
   "id": "3732e1fc-a12d-4235-b76c-469ecc489d3d",
   "metadata": {},
   "outputs": [],
   "source": []
  },
  {
   "cell_type": "code",
   "execution_count": null,
   "id": "e8c16e8e-fff8-437a-9dc0-ee761637877d",
   "metadata": {},
   "outputs": [],
   "source": []
  }
 ],
 "metadata": {
  "kernelspec": {
   "display_name": "Python 3 (ipykernel)",
   "language": "python",
   "name": "python3"
  },
  "language_info": {
   "codemirror_mode": {
    "name": "ipython",
    "version": 3
   },
   "file_extension": ".py",
   "mimetype": "text/x-python",
   "name": "python",
   "nbconvert_exporter": "python",
   "pygments_lexer": "ipython3",
   "version": "3.10.2"
  }
 },
 "nbformat": 4,
 "nbformat_minor": 5
}
