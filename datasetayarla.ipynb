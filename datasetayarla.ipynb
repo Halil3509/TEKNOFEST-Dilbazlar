{
 "cells": [
  {
   "cell_type": "code",
   "execution_count": 1,
   "metadata": {},
   "outputs": [],
   "source": [
    "import pandas as pd"
   ]
  },
  {
   "cell_type": "code",
   "execution_count": 2,
   "metadata": {},
   "outputs": [],
   "source": [
    "combined_df = pd.read_csv(\"filtered_entries4.csv\")"
   ]
  },
  {
   "cell_type": "code",
   "execution_count": 3,
   "metadata": {},
   "outputs": [
    {
     "data": {
      "text/html": [
       "<div>\n",
       "<style scoped>\n",
       "    .dataframe tbody tr th:only-of-type {\n",
       "        vertical-align: middle;\n",
       "    }\n",
       "\n",
       "    .dataframe tbody tr th {\n",
       "        vertical-align: top;\n",
       "    }\n",
       "\n",
       "    .dataframe thead th {\n",
       "        text-align: right;\n",
       "    }\n",
       "</style>\n",
       "<table border=\"1\" class=\"dataframe\">\n",
       "  <thead>\n",
       "    <tr style=\"text-align: right;\">\n",
       "      <th></th>\n",
       "      <th>Result</th>\n",
       "      <th>Text</th>\n",
       "      <th>Title</th>\n",
       "    </tr>\n",
       "  </thead>\n",
       "  <tbody>\n",
       "    <tr>\n",
       "      <th>0</th>\n",
       "      <td>yes</td>\n",
       "      <td>son iki senedir depresif ruh halinde olmak ve ...</td>\n",
       "      <td>distimi</td>\n",
       "    </tr>\n",
       "    <tr>\n",
       "      <th>1</th>\n",
       "      <td>yes</td>\n",
       "      <td>kronik depresyon</td>\n",
       "      <td>distimi</td>\n",
       "    </tr>\n",
       "    <tr>\n",
       "      <th>2</th>\n",
       "      <td>yes</td>\n",
       "      <td>depresyon</td>\n",
       "      <td>distimi</td>\n",
       "    </tr>\n",
       "    <tr>\n",
       "      <th>3</th>\n",
       "      <td>yes</td>\n",
       "      <td>depresif duygu durumunu tanımlar. yan belirtil...</td>\n",
       "      <td>distimi</td>\n",
       "    </tr>\n",
       "    <tr>\n",
       "      <th>4</th>\n",
       "      <td>yes</td>\n",
       "      <td>almadan verirler. alım onlar için alınandan ço...</td>\n",
       "      <td>distimi</td>\n",
       "    </tr>\n",
       "    <tr>\n",
       "      <th>...</th>\n",
       "      <td>...</td>\n",
       "      <td>...</td>\n",
       "      <td>...</td>\n",
       "    </tr>\n",
       "    <tr>\n",
       "      <th>3804</th>\n",
       "      <td>yes</td>\n",
       "      <td>hissizlik, halsizlik, sürekli uyuma isteği, ci...</td>\n",
       "      <td>depresyon belirtileri</td>\n",
       "    </tr>\n",
       "    <tr>\n",
       "      <th>3805</th>\n",
       "      <td>yes</td>\n",
       "      <td>kaçarak uzaklaşma isteği</td>\n",
       "      <td>depresyon belirtileri</td>\n",
       "    </tr>\n",
       "    <tr>\n",
       "      <th>3806</th>\n",
       "      <td>yes</td>\n",
       "      <td>depresyona girmişimdir</td>\n",
       "      <td>depresyon belirtileri</td>\n",
       "    </tr>\n",
       "    <tr>\n",
       "      <th>3807</th>\n",
       "      <td>yes</td>\n",
       "      <td>bedenimin içindeki düşünceleri ben yönetmiyorm...</td>\n",
       "      <td>depresyon belirtileri</td>\n",
       "    </tr>\n",
       "    <tr>\n",
       "      <th>3808</th>\n",
       "      <td>yes</td>\n",
       "      <td>depresyon iyi bir şey değil.</td>\n",
       "      <td>depresyon belirtileri</td>\n",
       "    </tr>\n",
       "  </tbody>\n",
       "</table>\n",
       "<p>3809 rows × 3 columns</p>\n",
       "</div>"
      ],
      "text/plain": [
       "     Result                                               Text  \\\n",
       "0       yes  son iki senedir depresif ruh halinde olmak ve ...   \n",
       "1       yes                                   kronik depresyon   \n",
       "2       yes                                          depresyon   \n",
       "3       yes  depresif duygu durumunu tanımlar. yan belirtil...   \n",
       "4       yes  almadan verirler. alım onlar için alınandan ço...   \n",
       "...     ...                                                ...   \n",
       "3804    yes  hissizlik, halsizlik, sürekli uyuma isteği, ci...   \n",
       "3805    yes                           kaçarak uzaklaşma isteği   \n",
       "3806    yes                             depresyona girmişimdir   \n",
       "3807    yes  bedenimin içindeki düşünceleri ben yönetmiyorm...   \n",
       "3808    yes                       depresyon iyi bir şey değil.   \n",
       "\n",
       "                      Title  \n",
       "0                   distimi  \n",
       "1                   distimi  \n",
       "2                   distimi  \n",
       "3                   distimi  \n",
       "4                   distimi  \n",
       "...                     ...  \n",
       "3804  depresyon belirtileri  \n",
       "3805  depresyon belirtileri  \n",
       "3806  depresyon belirtileri  \n",
       "3807  depresyon belirtileri  \n",
       "3808  depresyon belirtileri  \n",
       "\n",
       "[3809 rows x 3 columns]"
      ]
     },
     "execution_count": 3,
     "metadata": {},
     "output_type": "execute_result"
    }
   ],
   "source": [
    "combined_df"
   ]
  },
  {
   "cell_type": "code",
   "execution_count": 4,
   "metadata": {},
   "outputs": [
    {
     "data": {
      "text/plain": [
       "Title\n",
       "depresyon                3521\n",
       "depresyon belirtileri     213\n",
       "distimi                    75\n",
       "Name: count, dtype: int64"
      ]
     },
     "execution_count": 4,
     "metadata": {},
     "output_type": "execute_result"
    }
   ],
   "source": [
    "combined_df[\"Title\"].value_counts()"
   ]
  },
  {
   "cell_type": "code",
   "execution_count": 5,
   "metadata": {},
   "outputs": [],
   "source": [
    "\n",
    "filtered_df = combined_df[combined_df[\"Result\"] == \"yes\"]\n",
    "\n"
   ]
  },
  {
   "cell_type": "code",
   "execution_count": 6,
   "metadata": {},
   "outputs": [
    {
     "data": {
      "text/plain": [
       "3255"
      ]
     },
     "execution_count": 6,
     "metadata": {},
     "output_type": "execute_result"
    }
   ],
   "source": [
    "len(filtered_df)"
   ]
  },
  {
   "cell_type": "code",
   "execution_count": 7,
   "metadata": {},
   "outputs": [],
   "source": [
    "\n",
    "combine_labels = [\"depresyon\", \"depresyon belirtileri\"]\n",
    "other_labels = [\"distimi\"]\n",
    "\n",
    "\n",
    "combined_df = filtered_df[filtered_df[\"Title\"].isin(combine_labels)]\n",
    "individual_dfs = {label: filtered_df[filtered_df[\"Title\"] == label] for label in other_labels}\n",
    "\n",
    "\n",
    "combined_df.to_csv(\"depresyon.csv\", index=False)\n",
    "\n",
    "\n",
    "for label, group in individual_dfs.items():\n",
    "    group.to_csv(f\"{label}.csv\", index=False)\n",
    "\n"
   ]
  }
 ],
 "metadata": {
  "kernelspec": {
   "display_name": "Python 3",
   "language": "python",
   "name": "python3"
  },
  "language_info": {
   "codemirror_mode": {
    "name": "ipython",
    "version": 3
   },
   "file_extension": ".py",
   "mimetype": "text/x-python",
   "name": "python",
   "nbconvert_exporter": "python",
   "pygments_lexer": "ipython3",
   "version": "3.10.4"
  }
 },
 "nbformat": 4,
 "nbformat_minor": 2
}
