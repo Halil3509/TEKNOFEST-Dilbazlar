{
 "cells": [
  {
   "cell_type": "code",
   "execution_count": 1,
   "metadata": {},
   "outputs": [],
   "source": [
    "import pandas as pd"
   ]
  },
  {
   "cell_type": "code",
   "execution_count": 3,
   "metadata": {},
   "outputs": [],
   "source": [
    "combined_df = pd.read_csv(\"filtered_entries4.csv\")"
   ]
  },
  {
   "cell_type": "code",
   "execution_count": 6,
   "metadata": {},
   "outputs": [
    {
     "data": {
      "text/html": [
       "<div>\n",
       "<style scoped>\n",
       "    .dataframe tbody tr th:only-of-type {\n",
       "        vertical-align: middle;\n",
       "    }\n",
       "\n",
       "    .dataframe tbody tr th {\n",
       "        vertical-align: top;\n",
       "    }\n",
       "\n",
       "    .dataframe thead th {\n",
       "        text-align: right;\n",
       "    }\n",
       "</style>\n",
       "<table border=\"1\" class=\"dataframe\">\n",
       "  <thead>\n",
       "    <tr style=\"text-align: right;\">\n",
       "      <th></th>\n",
       "      <th>Result</th>\n",
       "      <th>Text</th>\n",
       "      <th>Title</th>\n",
       "    </tr>\n",
       "  </thead>\n",
       "  <tbody>\n",
       "    <tr>\n",
       "      <th>0</th>\n",
       "      <td>yes</td>\n",
       "      <td>son iki senedir depresif ruh halinde olmak ve ...</td>\n",
       "      <td>distimi</td>\n",
       "    </tr>\n",
       "    <tr>\n",
       "      <th>1</th>\n",
       "      <td>yes</td>\n",
       "      <td>kronik depresyon</td>\n",
       "      <td>distimi</td>\n",
       "    </tr>\n",
       "    <tr>\n",
       "      <th>2</th>\n",
       "      <td>yes</td>\n",
       "      <td>depresyon</td>\n",
       "      <td>distimi</td>\n",
       "    </tr>\n",
       "    <tr>\n",
       "      <th>3</th>\n",
       "      <td>yes</td>\n",
       "      <td>depresif duygu durumunu tanımlar. yan belirtil...</td>\n",
       "      <td>distimi</td>\n",
       "    </tr>\n",
       "    <tr>\n",
       "      <th>4</th>\n",
       "      <td>yes</td>\n",
       "      <td>'alım onlar için alınandan çok verme, aşırı so...</td>\n",
       "      <td>distimi</td>\n",
       "    </tr>\n",
       "    <tr>\n",
       "      <th>...</th>\n",
       "      <td>...</td>\n",
       "      <td>...</td>\n",
       "      <td>...</td>\n",
       "    </tr>\n",
       "    <tr>\n",
       "      <th>2698</th>\n",
       "      <td>yes</td>\n",
       "      <td>mutsuzluğun kapısını bekler.</td>\n",
       "      <td>depresyon</td>\n",
       "    </tr>\n",
       "    <tr>\n",
       "      <th>2699</th>\n",
       "      <td>yes</td>\n",
       "      <td>depresyona girmeye vakti yoktur... sanki ama o...</td>\n",
       "      <td>depresyon</td>\n",
       "    </tr>\n",
       "    <tr>\n",
       "      <th>2700</th>\n",
       "      <td>yes</td>\n",
       "      <td>depresyon</td>\n",
       "      <td>depresyon</td>\n",
       "    </tr>\n",
       "    <tr>\n",
       "      <th>2701</th>\n",
       "      <td>no</td>\n",
       "      <td>bu durumun en az 6 aydır sürmesi gerekiyor ark...</td>\n",
       "      <td>depresyon</td>\n",
       "    </tr>\n",
       "    <tr>\n",
       "      <th>2702</th>\n",
       "      <td>yes</td>\n",
       "      <td>depresyona dair</td>\n",
       "      <td>depresyon</td>\n",
       "    </tr>\n",
       "  </tbody>\n",
       "</table>\n",
       "<p>2703 rows × 3 columns</p>\n",
       "</div>"
      ],
      "text/plain": [
       "     Result                                               Text      Title\n",
       "0       yes  son iki senedir depresif ruh halinde olmak ve ...    distimi\n",
       "1       yes                                   kronik depresyon    distimi\n",
       "2       yes                                          depresyon    distimi\n",
       "3       yes  depresif duygu durumunu tanımlar. yan belirtil...    distimi\n",
       "4       yes  'alım onlar için alınandan çok verme, aşırı so...    distimi\n",
       "...     ...                                                ...        ...\n",
       "2698    yes                       mutsuzluğun kapısını bekler.  depresyon\n",
       "2699    yes  depresyona girmeye vakti yoktur... sanki ama o...  depresyon\n",
       "2700    yes                                          depresyon  depresyon\n",
       "2701     no  bu durumun en az 6 aydır sürmesi gerekiyor ark...  depresyon\n",
       "2702    yes                                    depresyona dair  depresyon\n",
       "\n",
       "[2703 rows x 3 columns]"
      ]
     },
     "execution_count": 6,
     "metadata": {},
     "output_type": "execute_result"
    }
   ],
   "source": [
    "combined_df"
   ]
  },
  {
   "cell_type": "code",
   "execution_count": 7,
   "metadata": {},
   "outputs": [
    {
     "data": {
      "text/plain": [
       "Title\n",
       "depresyon    2629\n",
       "distimi        74\n",
       "Name: count, dtype: int64"
      ]
     },
     "execution_count": 7,
     "metadata": {},
     "output_type": "execute_result"
    }
   ],
   "source": [
    "combined_df[\"Title\"].value_counts()"
   ]
  },
  {
   "cell_type": "code",
   "execution_count": 18,
   "metadata": {},
   "outputs": [],
   "source": [
    "\n",
    "filtered_df = combined_df[combined_df[\"Result\"] == \"yes\"]\n",
    "\n"
   ]
  },
  {
   "cell_type": "code",
   "execution_count": 20,
   "metadata": {},
   "outputs": [
    {
     "data": {
      "text/plain": [
       "2773"
      ]
     },
     "execution_count": 20,
     "metadata": {},
     "output_type": "execute_result"
    }
   ],
   "source": [
    "len(filtered_df)"
   ]
  },
  {
   "cell_type": "code",
   "execution_count": 19,
   "metadata": {},
   "outputs": [
    {
     "name": "stdout",
     "output_type": "stream",
     "text": [
      "Combined Sosyal Anksiyete Bozuklugu and Sosyal Fobi:\n",
      "     Result                                               Text  \\\n",
      "1821    yes  sosyal fobi tanımının hastalığın vehametini ye...   \n",
      "1822    yes  anlatım bozukluğu içeriyor gibi geliyor bana h...   \n",
      "1824    yes  ağır işlevsellik kaybı yaşayan hastalari görme...   \n",
      "1828    yes  sosyal anksiyete diye bir seyi kimse isteyerek...   \n",
      "1829    yes  gidip bakkaldan ekmek almak yerine açlıktan öl...   \n",
      "...     ...                                                ...   \n",
      "3116    yes  2020 hedeflerimin arasında en büyük olanı ve e...   \n",
      "3117    yes  aşmak için zar zor edindiğiniz prensipleri ken...   \n",
      "3118    yes  bende hiç olmayan şey hayat boyu. hiçbiryerden...   \n",
      "3119    yes  kendimde gördüğüm durum. böyle mutluyum sanırı...   \n",
      "3120    yes  sosyal fobi de; kişilerden sosyeteden korkmak ...   \n",
      "\n",
      "                           Title  \n",
      "1821  sosyal anksiyete bozuklugu  \n",
      "1822  sosyal anksiyete bozuklugu  \n",
      "1824  sosyal anksiyete bozuklugu  \n",
      "1828  sosyal anksiyete bozuklugu  \n",
      "1829  sosyal anksiyete bozuklugu  \n",
      "...                          ...  \n",
      "3116                 sosyal fobi  \n",
      "3117                 sosyal fobi  \n",
      "3118                 sosyal fobi  \n",
      "3119                 sosyal fobi  \n",
      "3120                 sosyal fobi  \n",
      "\n",
      "[1146 rows x 3 columns] \n",
      "\n",
      "Individual DataFrames:\n",
      "Label: panik atak\n",
      "     Result                                               Text       Title\n",
      "333     yes  atak geldiginde kalp krizi gecirdigini sandigi...  panik atak\n",
      "335     yes  şiddetli delirme ve ölüm korkusu yaşamak... kı...  panik atak\n",
      "337     yes  psikiyatrik sendromdur. tedavisi kolay değildi...  panik atak\n",
      "338     yes  dar ve kalabalik alanlarda ornegin minibus gib...  panik atak\n",
      "341     yes  anksiyete halini herkes yaşar ama bu durumda o...  panik atak\n",
      "...     ...                                                ...         ...\n",
      "1815    yes  kalp krizi geçirdiği mi sanıp gizli bir yere g...  panik atak\n",
      "1816    yes  anksiyete krizimin azmasıyla tekrar tetiklenen...  panik atak\n",
      "1817    yes  16 senemin içine sıçan ama kurtulduğum hastalı...  panik atak\n",
      "1818    yes  bende ciddi uyku sorunu yapan hastalik. göğüs ...  panik atak\n",
      "1819    yes  düşünmeden duramamak ve bunun sonucunda gerçek...  panik atak\n",
      "\n",
      "[1344 rows x 3 columns] \n",
      "\n",
      "Label: yaygin anksiyete bozuklugu\n",
      "    Result                                               Text  \\\n",
      "121    yes                       yaygınlaşmış kaygı bozukluğu   \n",
      "122    yes                              depresyon + anksiyete   \n",
      "123    yes  sürekli bir endişe, korku içinde olduğunuzu .s...   \n",
      "125    yes               endişe edeceğinden bile endişe etmek   \n",
      "126    yes  hayattaki her seyi tehlike unsuru olarak algil...   \n",
      "..     ...                                                ...   \n",
      "240    yes  iki üç haftalığına istanbul'da yaşayan ablamın...   \n",
      "241    yes  beyindeki kimyasal ve fiziksel bir bozukluk ya...   \n",
      "242    yes  evlenmeden önce asansöre tek başına binememele...   \n",
      "243    yes  içindekilerinize karşı duyarlı, empati sahibi,...   \n",
      "244    yes  milleti uykusundan uyandırıyor,beni uyutmuyor ...   \n",
      "\n",
      "                          Title  \n",
      "121  yaygin anksiyete bozuklugu  \n",
      "122  yaygin anksiyete bozuklugu  \n",
      "123  yaygin anksiyete bozuklugu  \n",
      "125  yaygin anksiyete bozuklugu  \n",
      "126  yaygin anksiyete bozuklugu  \n",
      "..                          ...  \n",
      "240  yaygin anksiyete bozuklugu  \n",
      "241  yaygin anksiyete bozuklugu  \n",
      "242  yaygin anksiyete bozuklugu  \n",
      "243  yaygin anksiyete bozuklugu  \n",
      "244  yaygin anksiyete bozuklugu  \n",
      "\n",
      "[117 rows x 3 columns] \n",
      "\n",
      "Label: fobi\n",
      "    Result                                               Text Title\n",
      "0      yes  korktum, tırstım, fırstım diye her şeyin lezze...  fobi\n",
      "1      yes  agorafobi, asansor fobisi, diskofobi, fobik bo...  fobi\n",
      "2      yes                                      arachnophobia  fobi\n",
      "3      yes                                            vertigo  fobi\n",
      "5      yes           korkudan çok, dayanamamak durumu vardır.  fobi\n",
      "..     ...                                                ...   ...\n",
      "116    yes  düşme fobim var. sadece düşmekten korkuyorum, ...  fobi\n",
      "117    yes  bir erkek çocukta köprülere karşı bir fobi var...  fobi\n",
      "118    yes  “sundayfobia” pazar günü akşamüstü başlayan, p...  fobi\n",
      "119    yes  rüyanda denk gelme olasılığından öyle çok kork...  fobi\n",
      "120    yes  beyinde bunu üreten yeri çıkartıp atamıyoz mu ...  fobi\n",
      "\n",
      "[90 rows x 3 columns] \n",
      "\n",
      "Label: agorafobi\n",
      "    Result                                               Text      Title\n",
      "245    yes  açık yerlerde bulunmak korkusu, açık yerde bul...  agorafobi\n",
      "246    yes  korkar oldum bu agora meyhanesinden, gitmem bi...  agorafobi\n",
      "247    yes                                 davranis bozuklugu  agorafobi\n",
      "248    yes  sigourney ablanin oynadigi karakterin oldurulm...  agorafobi\n",
      "249    yes               açık alan korkusu. kalabalık korkusu  agorafobi\n",
      "..     ...                                                ...        ...\n",
      "328    yes  dışarıdaki her şey aşırı ve çok geliyor. insan...  agorafobi\n",
      "329    yes              yenmiş kişilerin tavsiyelerine açığım  agorafobi\n",
      "330    yes   serotonin miktarının artırılması ve kişinin a...  agorafobi\n",
      "331    yes  serotonin seviyesinin arttırılması ile ilgisi ...  agorafobi\n",
      "332    yes        ilçe değiştiremiyorum, uzaklara gidemiyorum  agorafobi\n",
      "\n",
      "[76 rows x 3 columns] \n",
      "\n"
     ]
    }
   ],
   "source": [
    "\n",
    "combine_labels = [\"depresyon\", \"depresyon-belirtileri\"]\n",
    "other_labels = [\"distimi\"]\n",
    "\n",
    "\n",
    "combined_df = filtered_df[filtered_df[\"Title\"].isin(combine_labels)]\n",
    "individual_dfs = {label: filtered_df[filtered_df[\"Title\"] == label] for label in other_labels}\n",
    "\n",
    "\n",
    "combined_df.to_csv(\"depresyon.csv\", index=False)\n",
    "\n",
    "\n",
    "for label, group in individual_dfs.items():\n",
    "    group.to_csv(f\"{label}.csv\", index=False)\n",
    "\n"
   ]
  }
 ],
 "metadata": {
  "kernelspec": {
   "display_name": "Python 3",
   "language": "python",
   "name": "python3"
  },
  "language_info": {
   "codemirror_mode": {
    "name": "ipython",
    "version": 3
   },
   "file_extension": ".py",
   "mimetype": "text/x-python",
   "name": "python",
   "nbconvert_exporter": "python",
   "pygments_lexer": "ipython3",
   "version": "3.10.4"
  }
 },
 "nbformat": 4,
 "nbformat_minor": 2
}
