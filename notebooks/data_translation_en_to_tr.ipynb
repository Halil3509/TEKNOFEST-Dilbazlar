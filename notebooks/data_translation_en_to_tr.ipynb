{
 "cells": [
  {
   "cell_type": "code",
   "execution_count": 1,
   "id": "be87c1f3-27f8-40a9-b8c3-6eb08c4624d1",
   "metadata": {},
   "outputs": [],
   "source": [
    "from transformers import AutoTokenizer, AutoModelForSeq2SeqLM\n",
    "import torch\n",
    "import pandas as pd"
   ]
  },
  {
   "cell_type": "code",
   "execution_count": 2,
   "id": "5b993339-a065-4832-a570-f32796666799",
   "metadata": {},
   "outputs": [],
   "source": [
    "data = pd.read_csv(\"Data/depression_llm_filtered_en.csv\")"
   ]
  },
  {
   "cell_type": "code",
   "execution_count": 3,
   "id": "62c9ef8b-fbeb-4f75-8b8c-0f122be83bfe",
   "metadata": {},
   "outputs": [],
   "source": [
    "pd.set_option('display.max_colwidth', None)"
   ]
  },
  {
   "cell_type": "code",
   "execution_count": 4,
   "id": "c974a4c3-5809-45a8-a392-fa4f364883ea",
   "metadata": {},
   "outputs": [
    {
     "name": "stdout",
     "output_type": "stream",
     "text": [
      "<class 'pandas.core.frame.DataFrame'>\n",
      "RangeIndex: 3385 entries, 0 to 3384\n",
      "Data columns (total 2 columns):\n",
      " #   Column  Non-Null Count  Dtype \n",
      "---  ------  --------------  ----- \n",
      " 0   Result  3385 non-null   object\n",
      " 1   Text    3380 non-null   object\n",
      "dtypes: object(2)\n",
      "memory usage: 53.0+ KB\n"
     ]
    }
   ],
   "source": [
    "data.info()"
   ]
  },
  {
   "cell_type": "code",
   "execution_count": 5,
   "id": "65ab93ab-4f7d-4690-beed-2ebc89d95a02",
   "metadata": {},
   "outputs": [
    {
     "data": {
      "text/html": [
       "<div>\n",
       "<style scoped>\n",
       "    .dataframe tbody tr th:only-of-type {\n",
       "        vertical-align: middle;\n",
       "    }\n",
       "\n",
       "    .dataframe tbody tr th {\n",
       "        vertical-align: top;\n",
       "    }\n",
       "\n",
       "    .dataframe thead th {\n",
       "        text-align: right;\n",
       "    }\n",
       "</style>\n",
       "<table border=\"1\" class=\"dataframe\">\n",
       "  <thead>\n",
       "    <tr style=\"text-align: right;\">\n",
       "      <th></th>\n",
       "      <th>Result</th>\n",
       "      <th>Text</th>\n",
       "    </tr>\n",
       "  </thead>\n",
       "  <tbody>\n",
       "    <tr>\n",
       "      <th>0</th>\n",
       "      <td>yes</td>\n",
       "      <td>Mentally, I feel I'm on the verge of a breakdown. I can't connect to my family, and have no one to turns to for understanding and companionship.</td>\n",
       "    </tr>\n",
       "    <tr>\n",
       "      <th>1</th>\n",
       "      <td>yes</td>\n",
       "      <td>that tenuous grasp you had on climbing out of the hole, that little bit of hope that things are starting to turn around, suddenly releases and you are plummet back into the pit; and now you are too damn tired to try climbing out again</td>\n",
       "    </tr>\n",
       "    <tr>\n",
       "      <th>2</th>\n",
       "      <td>yes</td>\n",
       "      <td>depression hits you and you wish you could get back to sleep</td>\n",
       "    </tr>\n",
       "    <tr>\n",
       "      <th>3</th>\n",
       "      <td>yes</td>\n",
       "      <td>I feel so ragged and unclean in comparison. It's not that I feel like they hate me or are judging me. But I feel like deep down they know there's something wrong with me.</td>\n",
       "    </tr>\n",
       "    <tr>\n",
       "      <th>4</th>\n",
       "      <td>yes</td>\n",
       "      <td>I feel like I don’t have a mom to hang with or comfort me. I’ve been seriously depressed</td>\n",
       "    </tr>\n",
       "  </tbody>\n",
       "</table>\n",
       "</div>"
      ],
      "text/plain": [
       "  Result  \\\n",
       "0    yes   \n",
       "1    yes   \n",
       "2    yes   \n",
       "3    yes   \n",
       "4    yes   \n",
       "\n",
       "                                                                                                                                                                                                                                         Text  \n",
       "0                                                                                            Mentally, I feel I'm on the verge of a breakdown. I can't connect to my family, and have no one to turns to for understanding and companionship.  \n",
       "1  that tenuous grasp you had on climbing out of the hole, that little bit of hope that things are starting to turn around, suddenly releases and you are plummet back into the pit; and now you are too damn tired to try climbing out again  \n",
       "2                                                                                                                                                                                depression hits you and you wish you could get back to sleep  \n",
       "3                                                                  I feel so ragged and unclean in comparison. It's not that I feel like they hate me or are judging me. But I feel like deep down they know there's something wrong with me.  \n",
       "4                                                                                                                                                    I feel like I don’t have a mom to hang with or comfort me. I’ve been seriously depressed  "
      ]
     },
     "execution_count": 5,
     "metadata": {},
     "output_type": "execute_result"
    }
   ],
   "source": [
    "data.head()"
   ]
  },
  {
   "cell_type": "code",
   "execution_count": 6,
   "id": "99c3e8fd-0fd3-44d7-9292-10f365e39fe6",
   "metadata": {},
   "outputs": [],
   "source": [
    "data = data[data['Text'].apply(lambda x: isinstance(x, str))]"
   ]
  },
  {
   "cell_type": "code",
   "execution_count": 7,
   "id": "cbffff04-9d45-45ff-84a3-3103a89ca27c",
   "metadata": {},
   "outputs": [
    {
     "name": "stdout",
     "output_type": "stream",
     "text": [
      "<class 'pandas.core.frame.DataFrame'>\n",
      "Index: 3380 entries, 0 to 3384\n",
      "Data columns (total 2 columns):\n",
      " #   Column  Non-Null Count  Dtype \n",
      "---  ------  --------------  ----- \n",
      " 0   Result  3380 non-null   object\n",
      " 1   Text    3380 non-null   object\n",
      "dtypes: object(2)\n",
      "memory usage: 79.2+ KB\n"
     ]
    }
   ],
   "source": [
    "data.info()"
   ]
  },
  {
   "cell_type": "code",
   "execution_count": 8,
   "id": "f5ab5a82-218d-4c60-8210-e94bfa447a74",
   "metadata": {},
   "outputs": [
    {
     "data": {
      "text/html": [
       "<div>\n",
       "<style scoped>\n",
       "    .dataframe tbody tr th:only-of-type {\n",
       "        vertical-align: middle;\n",
       "    }\n",
       "\n",
       "    .dataframe tbody tr th {\n",
       "        vertical-align: top;\n",
       "    }\n",
       "\n",
       "    .dataframe thead th {\n",
       "        text-align: right;\n",
       "    }\n",
       "</style>\n",
       "<table border=\"1\" class=\"dataframe\">\n",
       "  <thead>\n",
       "    <tr style=\"text-align: right;\">\n",
       "      <th></th>\n",
       "      <th>Result</th>\n",
       "      <th>Text</th>\n",
       "    </tr>\n",
       "  </thead>\n",
       "  <tbody>\n",
       "    <tr>\n",
       "      <th>0</th>\n",
       "      <td>yes</td>\n",
       "      <td>Mentally, I feel I'm on the verge of a breakdown. I can't connect to my family, and have no one to turns to for understanding and companionship.</td>\n",
       "    </tr>\n",
       "    <tr>\n",
       "      <th>1</th>\n",
       "      <td>yes</td>\n",
       "      <td>that tenuous grasp you had on climbing out of the hole, that little bit of hope that things are starting to turn around, suddenly releases and you are plummet back into the pit; and now you are too damn tired to try climbing out again</td>\n",
       "    </tr>\n",
       "    <tr>\n",
       "      <th>2</th>\n",
       "      <td>yes</td>\n",
       "      <td>depression hits you and you wish you could get back to sleep</td>\n",
       "    </tr>\n",
       "    <tr>\n",
       "      <th>3</th>\n",
       "      <td>yes</td>\n",
       "      <td>I feel so ragged and unclean in comparison. It's not that I feel like they hate me or are judging me. But I feel like deep down they know there's something wrong with me.</td>\n",
       "    </tr>\n",
       "    <tr>\n",
       "      <th>4</th>\n",
       "      <td>yes</td>\n",
       "      <td>I feel like I don’t have a mom to hang with or comfort me. I’ve been seriously depressed</td>\n",
       "    </tr>\n",
       "  </tbody>\n",
       "</table>\n",
       "</div>"
      ],
      "text/plain": [
       "  Result  \\\n",
       "0    yes   \n",
       "1    yes   \n",
       "2    yes   \n",
       "3    yes   \n",
       "4    yes   \n",
       "\n",
       "                                                                                                                                                                                                                                         Text  \n",
       "0                                                                                            Mentally, I feel I'm on the verge of a breakdown. I can't connect to my family, and have no one to turns to for understanding and companionship.  \n",
       "1  that tenuous grasp you had on climbing out of the hole, that little bit of hope that things are starting to turn around, suddenly releases and you are plummet back into the pit; and now you are too damn tired to try climbing out again  \n",
       "2                                                                                                                                                                                depression hits you and you wish you could get back to sleep  \n",
       "3                                                                  I feel so ragged and unclean in comparison. It's not that I feel like they hate me or are judging me. But I feel like deep down they know there's something wrong with me.  \n",
       "4                                                                                                                                                    I feel like I don’t have a mom to hang with or comfort me. I’ve been seriously depressed  "
      ]
     },
     "execution_count": 8,
     "metadata": {},
     "output_type": "execute_result"
    }
   ],
   "source": [
    "data.head()"
   ]
  },
  {
   "cell_type": "markdown",
   "id": "7ae9116d-07fd-46a0-ac95-a39bf5054847",
   "metadata": {},
   "source": [
    "from transformers import MarianMTModel, MarianTokenizer\n",
    "\n",
    "model_name = \"Helsinki-NLP/opus-mt-tc-big-en-tr\"\n",
    "tokenizer = MarianTokenizer.from_pretrained(model_name)\n",
    "model = MarianMTModel.from_pretrained(model_name)\n",
    "\n",
    "device = torch.device(\"cuda\" if torch.cuda.is_available() else \"cpu\")\n",
    "model.to(device)\n",
    "\n",
    "def batch_translate_text(texts, batch_size=8):\n",
    "    translated_texts = []\n",
    "    for i in range(0, len(texts), batch_size):\n",
    "        batch_texts = texts[i:i + batch_size]\n",
    "        inputs = tokenizer(batch_texts, return_tensors=\"pt\", padding=True, truncation=True).to(device)\n",
    "        translated = model.generate(**inputs)\n",
    "        translated_batch = [tokenizer.decode(t, skip_special_tokens=True) for t in translated]\n",
    "        translated_texts.extend(translated_batch)\n",
    "    return translated_texts\n",
    "\n",
    "texts = data['Text'].tolist()\n",
    "translated_texts = batch_translate_text(texts)\n",
    "\n",
    "data['Translated_Text'] = translated_texts\n",
    "\n",
    "print(data)"
   ]
  },
  {
   "cell_type": "code",
   "execution_count": 9,
   "id": "7c935c0a-9934-4f88-a8c5-e3a808e46222",
   "metadata": {},
   "outputs": [
    {
     "name": "stderr",
     "output_type": "stream",
     "text": [
      "C:\\Users\\ensar\\Desktop\\dogaldilisleme\\lib\\site-packages\\transformers\\models\\marian\\tokenization_marian.py:175: UserWarning: Recommended: pip install sacremoses.\n",
      "  warnings.warn(\"Recommended: pip install sacremoses.\")\n",
      "Translating: 100%|█████████████████████████████████████████████████████████████████| 423/423 [2:11:02<00:00, 18.59s/it]"
     ]
    },
    {
     "name": "stdout",
     "output_type": "stream",
     "text": [
      "     Result  \\\n",
      "0       yes   \n",
      "1       yes   \n",
      "2       yes   \n",
      "3       yes   \n",
      "4       yes   \n",
      "...     ...   \n",
      "3380    yes   \n",
      "3381    yes   \n",
      "3382    yes   \n",
      "3383    yes   \n",
      "3384    yes   \n",
      "\n",
      "                                                                                                                                                                                                                                                                                                                                                                                                                                                                        Text  \\\n",
      "0                                                                                                                                                                                                                                                                                                                           Mentally, I feel I'm on the verge of a breakdown. I can't connect to my family, and have no one to turns to for understanding and companionship.   \n",
      "1                                                                                                                                                                                                                                 that tenuous grasp you had on climbing out of the hole, that little bit of hope that things are starting to turn around, suddenly releases and you are plummet back into the pit; and now you are too damn tired to try climbing out again   \n",
      "2                                                                                                                                                                                                                                                                                                                                                                                                               depression hits you and you wish you could get back to sleep   \n",
      "3                                                                                                                                                                                                                                                                                                 I feel so ragged and unclean in comparison. It's not that I feel like they hate me or are judging me. But I feel like deep down they know there's something wrong with me.   \n",
      "4                                                                                                                                                                                                                                                                                                                                                                                   I feel like I don’t have a mom to hang with or comfort me. I’ve been seriously depressed   \n",
      "...                                                                                                                                                                                                                                                                                                                                                                                                                                                                      ...   \n",
      "3380                                                                                                                                                                                                                                                                                                                                    After years of struggling with depression and anxiety I've noticed I can't concentrate and process information as fast as I used to.   \n",
      "3381                                         I hate my mental illness.  I hate that my coping mechanism of choice is self harm... My mental illness sucks and my self harm might be ugly... I might have 5,000 reasons that I think I should die but I will sit here and provide anyone I can with 5,000 reasons they shouldn't die... The reminder that people like this exist doesn't help with my mental health issues and only provides me with less hope for the future   \n",
      "3382                                                                                                                                                                                                                                                                                                                                                                                                    a burning feeling inside of me that my life will end on my own terms   \n",
      "3383                                                                                                                      I have had an urge to slit my throat and I don't know why...I want to plunge it into my heart and leave this planet...I'm in constant pain mentally, and I just want it to stop...I hate myself, others, and the idea of existence...Deep down, I know i'm probably gonna end my life soon by losing control of myself and going off the deep end.   \n",
      "3384  Staying up till 5am even though you know you have to work at noon. Scrolling through your Facebook timeline and wondering who these people are. Earing garbage from vending machines instead of proper food. Saying you'll quit smoking as you buy another pack. Wondering why you still have these problems at 30. Crushing loneliness despite not actively seeking a relationship. Never calling what little friends you have and wondering why they don't call you.   \n",
      "\n",
      "                                                                                                                                                                                                                                                                                                                                                                                                                                                                                         Translated_Text  \n",
      "0                                                                                                                                                                                                                                                                                                                                                         Zihinsel olarak, bir çöküşün eşiğinde olduğumu hissediyorum. Ailemle bağlantı kuramıyorum ve anlayış ve arkadaşlık için başvuracak kimsem yok.  \n",
      "1                                                                                                                                                                                                                                                                                         Delikten tırmanmak için sahip olduğunuz o ince kavrama, işlerin dönmeye başladığı, aniden serbest kaldığı ve çukura geri düştüğüne dair küçük bir umut; ve şimdi tekrar tırmanmayı denemek için çok yorgunsun.  \n",
      "2                                                                                                                                                                                                                                                                                                                                                                                                                                              Depresyon sana çarpar ve uykuya geri dönebilmeyi dilersin  \n",
      "3                                                                                                                                                                                                                                                                                                                 Kıyaslamada kendimi çok huysuz ve kirli hissediyorum. Benden nefret ettiklerini ya da beni yargıladıklarını hissetmiyorum. Ama içimde bir sorun olduğunu biliyorlar gibi hissediyorum.  \n",
      "4                                                                                                                                                                                                                                                                                                                                                                                                    Takılacak ya da beni rahatlatacak bir annem yokmuş gibi hissediyorum. Ciddi şekilde depresyondayım.  \n",
      "...                                                                                                                                                                                                                                                                                                                                                                                                                                                                                                  ...  \n",
      "3380                                                                                                                                                                                                                                                                                                                                                       Yıllarca depresyon ve anksiyete ile mücadele ettikten sonra, bilgileri eskisi kadar hızlı konsantre edemediğimi ve işleyemediğimi fark ettim.  \n",
      "3381                                            Zihinsel hastalığımdan nefret ediyorum. Seçim mekanizmamın kendi kendine zarar vermesinden nefret ediyorum... Zihinsel hastalığım berbat ve kendi zararım çirkin olabilir... Ölmem gerektiğini düşündüğüm 5.000 nedenim olabilir ama burada oturup ölmemeleri için 5.000 nedenim olan herkese yardım edeceğim... Böyle insanların var olmasının hatırlatıcısı zihinsel sağlık sorunlarıma yardımcı olmaz ve sadece bana gelecek için daha az umut verir.  \n",
      "3382                                                                                                                                                                                                                                                                                                                                                                                                                                     Hayatımın kendi şartlarımla sona ereceğini içimde yanan bir his  \n",
      "3383                                                                                                              Boğazımı kesmek için bir dürtüm vardı ve nedenini bilmiyorum... Kalbime dalıp bu gezegeni terk etmek istiyorum... Zihinsel olarak sürekli acı çekiyorum ve sadece durmasını istiyorum... Kendimden, diğerlerinden ve varoluş fikrinden nefret ediyorum... Derinlerde, muhtemelen hayatımı yakında kendimin kontrolünü kaybederek ve derinlerden ayrılarak sona erdireceğimi biliyorum.  \n",
      "3384  Öğle vakti çalışmak zorunda olduğunuzu bildiğiniz halde sabah 5'e kadar kalmak. Facebook zaman çizelgenizde gezinmek ve bu insanların kim olduğunu merak etmek. Uygun yiyecek yerine otomatlardan çöpleri dinlemek. Başka bir paket satın alırken sigarayı bırakacağınızı söylemek. 30'da neden hala bu problemleriniz olduğunu merak etmek. Aktif bir ilişki aramamasına rağmen yalnızlığı ezmek. Sahip olduğunuz küçük arkadaşlarınızı asla aramayın ve neden sizi aramadıklarını merak etmeyin.  \n",
      "\n",
      "[3380 rows x 3 columns]\n"
     ]
    },
    {
     "name": "stderr",
     "output_type": "stream",
     "text": [
      "\n"
     ]
    }
   ],
   "source": [
    "from transformers import MarianMTModel, MarianTokenizer\n",
    "import torch\n",
    "from tqdm import tqdm  # Import tqdm for the progress bar\n",
    "\n",
    "model_name = \"Helsinki-NLP/opus-mt-tc-big-en-tr\"\n",
    "tokenizer = MarianTokenizer.from_pretrained(model_name)\n",
    "model = MarianMTModel.from_pretrained(model_name)\n",
    "\n",
    "device = torch.device(\"cuda\" if torch.cuda.is_available() else \"cpu\")\n",
    "model.to(device)\n",
    "\n",
    "def batch_translate_text(texts, batch_size=8):\n",
    "    translated_texts = []\n",
    "    # Use tqdm to create a progress bar\n",
    "    for i in tqdm(range(0, len(texts), batch_size), desc=\"Translating\"):\n",
    "        batch_texts = texts[i:i + batch_size]\n",
    "        inputs = tokenizer(batch_texts, return_tensors=\"pt\", padding=True, truncation=True).to(device)\n",
    "        translated = model.generate(**inputs)\n",
    "        translated_batch = [tokenizer.decode(t, skip_special_tokens=True) for t in translated]\n",
    "        translated_texts.extend(translated_batch)\n",
    "    return translated_texts\n",
    "\n",
    "# Example data\n",
    "# data = pd.DataFrame({'Text': ['Text 1', 'Text 2', 'Text 3', ...]})\n",
    "texts = data['Text'].tolist()\n",
    "translated_texts = batch_translate_text(texts)\n",
    "\n",
    "data['Translated_Text'] = translated_texts\n",
    "\n",
    "print(data)\n"
   ]
  },
  {
   "cell_type": "code",
   "execution_count": 10,
   "id": "a97f3815-5a4e-42e0-959f-a318e13f1cbe",
   "metadata": {},
   "outputs": [
    {
     "data": {
      "text/html": [
       "<div>\n",
       "<style scoped>\n",
       "    .dataframe tbody tr th:only-of-type {\n",
       "        vertical-align: middle;\n",
       "    }\n",
       "\n",
       "    .dataframe tbody tr th {\n",
       "        vertical-align: top;\n",
       "    }\n",
       "\n",
       "    .dataframe thead th {\n",
       "        text-align: right;\n",
       "    }\n",
       "</style>\n",
       "<table border=\"1\" class=\"dataframe\">\n",
       "  <thead>\n",
       "    <tr style=\"text-align: right;\">\n",
       "      <th></th>\n",
       "      <th>Result</th>\n",
       "      <th>Text</th>\n",
       "      <th>Translated_Text</th>\n",
       "    </tr>\n",
       "  </thead>\n",
       "  <tbody>\n",
       "    <tr>\n",
       "      <th>0</th>\n",
       "      <td>yes</td>\n",
       "      <td>Mentally, I feel I'm on the verge of a breakdown. I can't connect to my family, and have no one to turns to for understanding and companionship.</td>\n",
       "      <td>Zihinsel olarak, bir çöküşün eşiğinde olduğumu hissediyorum. Ailemle bağlantı kuramıyorum ve anlayış ve arkadaşlık için başvuracak kimsem yok.</td>\n",
       "    </tr>\n",
       "    <tr>\n",
       "      <th>1</th>\n",
       "      <td>yes</td>\n",
       "      <td>that tenuous grasp you had on climbing out of the hole, that little bit of hope that things are starting to turn around, suddenly releases and you are plummet back into the pit; and now you are too damn tired to try climbing out again</td>\n",
       "      <td>Delikten tırmanmak için sahip olduğunuz o ince kavrama, işlerin dönmeye başladığı, aniden serbest kaldığı ve çukura geri düştüğüne dair küçük bir umut; ve şimdi tekrar tırmanmayı denemek için çok yorgunsun.</td>\n",
       "    </tr>\n",
       "    <tr>\n",
       "      <th>2</th>\n",
       "      <td>yes</td>\n",
       "      <td>depression hits you and you wish you could get back to sleep</td>\n",
       "      <td>Depresyon sana çarpar ve uykuya geri dönebilmeyi dilersin</td>\n",
       "    </tr>\n",
       "    <tr>\n",
       "      <th>3</th>\n",
       "      <td>yes</td>\n",
       "      <td>I feel so ragged and unclean in comparison. It's not that I feel like they hate me or are judging me. But I feel like deep down they know there's something wrong with me.</td>\n",
       "      <td>Kıyaslamada kendimi çok huysuz ve kirli hissediyorum. Benden nefret ettiklerini ya da beni yargıladıklarını hissetmiyorum. Ama içimde bir sorun olduğunu biliyorlar gibi hissediyorum.</td>\n",
       "    </tr>\n",
       "    <tr>\n",
       "      <th>4</th>\n",
       "      <td>yes</td>\n",
       "      <td>I feel like I don’t have a mom to hang with or comfort me. I’ve been seriously depressed</td>\n",
       "      <td>Takılacak ya da beni rahatlatacak bir annem yokmuş gibi hissediyorum. Ciddi şekilde depresyondayım.</td>\n",
       "    </tr>\n",
       "    <tr>\n",
       "      <th>...</th>\n",
       "      <td>...</td>\n",
       "      <td>...</td>\n",
       "      <td>...</td>\n",
       "    </tr>\n",
       "    <tr>\n",
       "      <th>3380</th>\n",
       "      <td>yes</td>\n",
       "      <td>After years of struggling with depression and anxiety I've noticed I can't concentrate and process information as fast as I used to.</td>\n",
       "      <td>Yıllarca depresyon ve anksiyete ile mücadele ettikten sonra, bilgileri eskisi kadar hızlı konsantre edemediğimi ve işleyemediğimi fark ettim.</td>\n",
       "    </tr>\n",
       "    <tr>\n",
       "      <th>3381</th>\n",
       "      <td>yes</td>\n",
       "      <td>I hate my mental illness.  I hate that my coping mechanism of choice is self harm... My mental illness sucks and my self harm might be ugly... I might have 5,000 reasons that I think I should die but I will sit here and provide anyone I can with 5,000 reasons they shouldn't die... The reminder that people like this exist doesn't help with my mental health issues and only provides me with less hope for the future</td>\n",
       "      <td>Zihinsel hastalığımdan nefret ediyorum. Seçim mekanizmamın kendi kendine zarar vermesinden nefret ediyorum... Zihinsel hastalığım berbat ve kendi zararım çirkin olabilir... Ölmem gerektiğini düşündüğüm 5.000 nedenim olabilir ama burada oturup ölmemeleri için 5.000 nedenim olan herkese yardım edeceğim... Böyle insanların var olmasının hatırlatıcısı zihinsel sağlık sorunlarıma yardımcı olmaz ve sadece bana gelecek için daha az umut verir.</td>\n",
       "    </tr>\n",
       "    <tr>\n",
       "      <th>3382</th>\n",
       "      <td>yes</td>\n",
       "      <td>a burning feeling inside of me that my life will end on my own terms</td>\n",
       "      <td>Hayatımın kendi şartlarımla sona ereceğini içimde yanan bir his</td>\n",
       "    </tr>\n",
       "    <tr>\n",
       "      <th>3383</th>\n",
       "      <td>yes</td>\n",
       "      <td>I have had an urge to slit my throat and I don't know why...I want to plunge it into my heart and leave this planet...I'm in constant pain mentally, and I just want it to stop...I hate myself, others, and the idea of existence...Deep down, I know i'm probably gonna end my life soon by losing control of myself and going off the deep end.</td>\n",
       "      <td>Boğazımı kesmek için bir dürtüm vardı ve nedenini bilmiyorum... Kalbime dalıp bu gezegeni terk etmek istiyorum... Zihinsel olarak sürekli acı çekiyorum ve sadece durmasını istiyorum... Kendimden, diğerlerinden ve varoluş fikrinden nefret ediyorum... Derinlerde, muhtemelen hayatımı yakında kendimin kontrolünü kaybederek ve derinlerden ayrılarak sona erdireceğimi biliyorum.</td>\n",
       "    </tr>\n",
       "    <tr>\n",
       "      <th>3384</th>\n",
       "      <td>yes</td>\n",
       "      <td>Staying up till 5am even though you know you have to work at noon. Scrolling through your Facebook timeline and wondering who these people are. Earing garbage from vending machines instead of proper food. Saying you'll quit smoking as you buy another pack. Wondering why you still have these problems at 30. Crushing loneliness despite not actively seeking a relationship. Never calling what little friends you have and wondering why they don't call you.</td>\n",
       "      <td>Öğle vakti çalışmak zorunda olduğunuzu bildiğiniz halde sabah 5'e kadar kalmak. Facebook zaman çizelgenizde gezinmek ve bu insanların kim olduğunu merak etmek. Uygun yiyecek yerine otomatlardan çöpleri dinlemek. Başka bir paket satın alırken sigarayı bırakacağınızı söylemek. 30'da neden hala bu problemleriniz olduğunu merak etmek. Aktif bir ilişki aramamasına rağmen yalnızlığı ezmek. Sahip olduğunuz küçük arkadaşlarınızı asla aramayın ve neden sizi aramadıklarını merak etmeyin.</td>\n",
       "    </tr>\n",
       "  </tbody>\n",
       "</table>\n",
       "<p>3380 rows × 3 columns</p>\n",
       "</div>"
      ],
      "text/plain": [
       "     Result  \\\n",
       "0       yes   \n",
       "1       yes   \n",
       "2       yes   \n",
       "3       yes   \n",
       "4       yes   \n",
       "...     ...   \n",
       "3380    yes   \n",
       "3381    yes   \n",
       "3382    yes   \n",
       "3383    yes   \n",
       "3384    yes   \n",
       "\n",
       "                                                                                                                                                                                                                                                                                                                                                                                                                                                                        Text  \\\n",
       "0                                                                                                                                                                                                                                                                                                                           Mentally, I feel I'm on the verge of a breakdown. I can't connect to my family, and have no one to turns to for understanding and companionship.   \n",
       "1                                                                                                                                                                                                                                 that tenuous grasp you had on climbing out of the hole, that little bit of hope that things are starting to turn around, suddenly releases and you are plummet back into the pit; and now you are too damn tired to try climbing out again   \n",
       "2                                                                                                                                                                                                                                                                                                                                                                                                               depression hits you and you wish you could get back to sleep   \n",
       "3                                                                                                                                                                                                                                                                                                 I feel so ragged and unclean in comparison. It's not that I feel like they hate me or are judging me. But I feel like deep down they know there's something wrong with me.   \n",
       "4                                                                                                                                                                                                                                                                                                                                                                                   I feel like I don’t have a mom to hang with or comfort me. I’ve been seriously depressed   \n",
       "...                                                                                                                                                                                                                                                                                                                                                                                                                                                                      ...   \n",
       "3380                                                                                                                                                                                                                                                                                                                                    After years of struggling with depression and anxiety I've noticed I can't concentrate and process information as fast as I used to.   \n",
       "3381                                         I hate my mental illness.  I hate that my coping mechanism of choice is self harm... My mental illness sucks and my self harm might be ugly... I might have 5,000 reasons that I think I should die but I will sit here and provide anyone I can with 5,000 reasons they shouldn't die... The reminder that people like this exist doesn't help with my mental health issues and only provides me with less hope for the future   \n",
       "3382                                                                                                                                                                                                                                                                                                                                                                                                    a burning feeling inside of me that my life will end on my own terms   \n",
       "3383                                                                                                                      I have had an urge to slit my throat and I don't know why...I want to plunge it into my heart and leave this planet...I'm in constant pain mentally, and I just want it to stop...I hate myself, others, and the idea of existence...Deep down, I know i'm probably gonna end my life soon by losing control of myself and going off the deep end.   \n",
       "3384  Staying up till 5am even though you know you have to work at noon. Scrolling through your Facebook timeline and wondering who these people are. Earing garbage from vending machines instead of proper food. Saying you'll quit smoking as you buy another pack. Wondering why you still have these problems at 30. Crushing loneliness despite not actively seeking a relationship. Never calling what little friends you have and wondering why they don't call you.   \n",
       "\n",
       "                                                                                                                                                                                                                                                                                                                                                                                                                                                                                         Translated_Text  \n",
       "0                                                                                                                                                                                                                                                                                                                                                         Zihinsel olarak, bir çöküşün eşiğinde olduğumu hissediyorum. Ailemle bağlantı kuramıyorum ve anlayış ve arkadaşlık için başvuracak kimsem yok.  \n",
       "1                                                                                                                                                                                                                                                                                         Delikten tırmanmak için sahip olduğunuz o ince kavrama, işlerin dönmeye başladığı, aniden serbest kaldığı ve çukura geri düştüğüne dair küçük bir umut; ve şimdi tekrar tırmanmayı denemek için çok yorgunsun.  \n",
       "2                                                                                                                                                                                                                                                                                                                                                                                                                                              Depresyon sana çarpar ve uykuya geri dönebilmeyi dilersin  \n",
       "3                                                                                                                                                                                                                                                                                                                 Kıyaslamada kendimi çok huysuz ve kirli hissediyorum. Benden nefret ettiklerini ya da beni yargıladıklarını hissetmiyorum. Ama içimde bir sorun olduğunu biliyorlar gibi hissediyorum.  \n",
       "4                                                                                                                                                                                                                                                                                                                                                                                                    Takılacak ya da beni rahatlatacak bir annem yokmuş gibi hissediyorum. Ciddi şekilde depresyondayım.  \n",
       "...                                                                                                                                                                                                                                                                                                                                                                                                                                                                                                  ...  \n",
       "3380                                                                                                                                                                                                                                                                                                                                                       Yıllarca depresyon ve anksiyete ile mücadele ettikten sonra, bilgileri eskisi kadar hızlı konsantre edemediğimi ve işleyemediğimi fark ettim.  \n",
       "3381                                            Zihinsel hastalığımdan nefret ediyorum. Seçim mekanizmamın kendi kendine zarar vermesinden nefret ediyorum... Zihinsel hastalığım berbat ve kendi zararım çirkin olabilir... Ölmem gerektiğini düşündüğüm 5.000 nedenim olabilir ama burada oturup ölmemeleri için 5.000 nedenim olan herkese yardım edeceğim... Böyle insanların var olmasının hatırlatıcısı zihinsel sağlık sorunlarıma yardımcı olmaz ve sadece bana gelecek için daha az umut verir.  \n",
       "3382                                                                                                                                                                                                                                                                                                                                                                                                                                     Hayatımın kendi şartlarımla sona ereceğini içimde yanan bir his  \n",
       "3383                                                                                                              Boğazımı kesmek için bir dürtüm vardı ve nedenini bilmiyorum... Kalbime dalıp bu gezegeni terk etmek istiyorum... Zihinsel olarak sürekli acı çekiyorum ve sadece durmasını istiyorum... Kendimden, diğerlerinden ve varoluş fikrinden nefret ediyorum... Derinlerde, muhtemelen hayatımı yakında kendimin kontrolünü kaybederek ve derinlerden ayrılarak sona erdireceğimi biliyorum.  \n",
       "3384  Öğle vakti çalışmak zorunda olduğunuzu bildiğiniz halde sabah 5'e kadar kalmak. Facebook zaman çizelgenizde gezinmek ve bu insanların kim olduğunu merak etmek. Uygun yiyecek yerine otomatlardan çöpleri dinlemek. Başka bir paket satın alırken sigarayı bırakacağınızı söylemek. 30'da neden hala bu problemleriniz olduğunu merak etmek. Aktif bir ilişki aramamasına rağmen yalnızlığı ezmek. Sahip olduğunuz küçük arkadaşlarınızı asla aramayın ve neden sizi aramadıklarını merak etmeyin.  \n",
       "\n",
       "[3380 rows x 3 columns]"
      ]
     },
     "execution_count": 10,
     "metadata": {},
     "output_type": "execute_result"
    }
   ],
   "source": [
    "data"
   ]
  },
  {
   "cell_type": "code",
   "execution_count": 11,
   "id": "e7391591-f677-4722-b195-eb9b786b67a6",
   "metadata": {},
   "outputs": [],
   "source": [
    "data.to_excel(\"depression_reddit_translated.xlsx\", index=False)"
   ]
  },
  {
   "cell_type": "code",
   "execution_count": null,
   "id": "3732e1fc-a12d-4235-b76c-469ecc489d3d",
   "metadata": {},
   "outputs": [],
   "source": []
  },
  {
   "cell_type": "code",
   "execution_count": null,
   "id": "e8c16e8e-fff8-437a-9dc0-ee761637877d",
   "metadata": {},
   "outputs": [],
   "source": []
  }
 ],
 "metadata": {
  "kernelspec": {
   "display_name": "Python 3 (ipykernel)",
   "language": "python",
   "name": "python3"
  },
  "language_info": {
   "codemirror_mode": {
    "name": "ipython",
    "version": 3
   },
   "file_extension": ".py",
   "mimetype": "text/x-python",
   "name": "python",
   "nbconvert_exporter": "python",
   "pygments_lexer": "ipython3",
   "version": "3.10.2"
  }
 },
 "nbformat": 4,
 "nbformat_minor": 5
}
