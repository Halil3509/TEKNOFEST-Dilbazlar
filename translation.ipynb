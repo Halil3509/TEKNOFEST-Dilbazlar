{
 "cells": [
  {
   "cell_type": "code",
   "execution_count": 1,
   "id": "be87c1f3-27f8-40a9-b8c3-6eb08c4624d1",
   "metadata": {},
   "outputs": [],
   "source": [
    "from transformers import AutoTokenizer, AutoModelForSeq2SeqLM\n",
    "import torch\n",
    "import pandas as pd"
   ]
  },
  {
   "cell_type": "code",
   "execution_count": 2,
   "id": "ecc0a12e-d883-4ea9-b153-8954e907b66e",
   "metadata": {},
   "outputs": [],
   "source": [
    "data = pd.read_csv(\"Data/PMDD_llm_filtered_en.csv\")"
   ]
  },
  {
   "cell_type": "code",
   "execution_count": 3,
   "id": "62c9ef8b-fbeb-4f75-8b8c-0f122be83bfe",
   "metadata": {},
   "outputs": [],
   "source": [
    "pd.set_option('display.max_colwidth', None)"
   ]
  },
  {
   "cell_type": "code",
   "execution_count": 4,
   "id": "c974a4c3-5809-45a8-a392-fa4f364883ea",
   "metadata": {},
   "outputs": [
    {
     "name": "stdout",
     "output_type": "stream",
     "text": [
      "<class 'pandas.core.frame.DataFrame'>\n",
      "RangeIndex: 2319 entries, 0 to 2318\n",
      "Data columns (total 2 columns):\n",
      " #   Column  Non-Null Count  Dtype \n",
      "---  ------  --------------  ----- \n",
      " 0   Result  2319 non-null   object\n",
      " 1   Text    2315 non-null   object\n",
      "dtypes: object(2)\n",
      "memory usage: 36.4+ KB\n"
     ]
    }
   ],
   "source": [
    "data.info()"
   ]
  },
  {
   "cell_type": "code",
   "execution_count": 5,
   "id": "d957d359-a07c-4f93-9e9d-73a0539e4375",
   "metadata": {},
   "outputs": [],
   "source": [
    "data = data[data['Text'].apply(lambda x: isinstance(x, str))]"
   ]
  },
  {
   "cell_type": "code",
   "execution_count": 6,
   "id": "244eb4f0-905e-49c9-be19-b5530c74a3f0",
   "metadata": {},
   "outputs": [
    {
     "name": "stdout",
     "output_type": "stream",
     "text": [
      "<class 'pandas.core.frame.DataFrame'>\n",
      "Index: 2315 entries, 0 to 2318\n",
      "Data columns (total 2 columns):\n",
      " #   Column  Non-Null Count  Dtype \n",
      "---  ------  --------------  ----- \n",
      " 0   Result  2315 non-null   object\n",
      " 1   Text    2315 non-null   object\n",
      "dtypes: object(2)\n",
      "memory usage: 54.3+ KB\n"
     ]
    }
   ],
   "source": [
    "data.info()"
   ]
  },
  {
   "cell_type": "code",
   "execution_count": 7,
   "id": "0ed39881-d739-425a-a599-361574bcc309",
   "metadata": {},
   "outputs": [
    {
     "data": {
      "text/html": [
       "<div>\n",
       "<style scoped>\n",
       "    .dataframe tbody tr th:only-of-type {\n",
       "        vertical-align: middle;\n",
       "    }\n",
       "\n",
       "    .dataframe tbody tr th {\n",
       "        vertical-align: top;\n",
       "    }\n",
       "\n",
       "    .dataframe thead th {\n",
       "        text-align: right;\n",
       "    }\n",
       "</style>\n",
       "<table border=\"1\" class=\"dataframe\">\n",
       "  <thead>\n",
       "    <tr style=\"text-align: right;\">\n",
       "      <th></th>\n",
       "      <th>Result</th>\n",
       "      <th>Text</th>\n",
       "    </tr>\n",
       "  </thead>\n",
       "  <tbody>\n",
       "    <tr>\n",
       "      <th>0</th>\n",
       "      <td>yes</td>\n",
       "      <td>I'm going crazy, I'm in the first healthy relationship of my life and I'm going to ruin it, can't stop breaking things, throwing things, crying, having death wishes.</td>\n",
       "    </tr>\n",
       "    <tr>\n",
       "      <th>1</th>\n",
       "      <td>yes</td>\n",
       "      <td>mentally I'm better</td>\n",
       "    </tr>\n",
       "    <tr>\n",
       "      <th>2</th>\n",
       "      <td>yes</td>\n",
       "      <td>I feel my crazy emotions returning.</td>\n",
       "    </tr>\n",
       "    <tr>\n",
       "      <th>3</th>\n",
       "      <td>yes</td>\n",
       "      <td>I'm so tired of going from good to bad...I'm just so tired of experiencing the lows...When its good its so good. But my god. The bad is so bad. I don't know if it's worth it.</td>\n",
       "    </tr>\n",
       "    <tr>\n",
       "      <th>4</th>\n",
       "      <td>yes</td>\n",
       "      <td>I constantly feel like i’m on the verge of fully loosing myself and forgetting who i am which also then has me constantly on the verge of a panic attack…i’ve never experienced it to this extent with my depression, anxiety, or any of my other disorders</td>\n",
       "    </tr>\n",
       "  </tbody>\n",
       "</table>\n",
       "</div>"
      ],
      "text/plain": [
       "  Result  \\\n",
       "0    yes   \n",
       "1    yes   \n",
       "2    yes   \n",
       "3    yes   \n",
       "4    yes   \n",
       "\n",
       "                                                                                                                                                                                                                                                          Text  \n",
       "0                                                                                        I'm going crazy, I'm in the first healthy relationship of my life and I'm going to ruin it, can't stop breaking things, throwing things, crying, having death wishes.  \n",
       "1                                                                                                                                                                                                                                          mentally I'm better  \n",
       "2                                                                                                                                                                                                                          I feel my crazy emotions returning.  \n",
       "3                                                                               I'm so tired of going from good to bad...I'm just so tired of experiencing the lows...When its good its so good. But my god. The bad is so bad. I don't know if it's worth it.  \n",
       "4  I constantly feel like i’m on the verge of fully loosing myself and forgetting who i am which also then has me constantly on the verge of a panic attack…i’ve never experienced it to this extent with my depression, anxiety, or any of my other disorders  "
      ]
     },
     "execution_count": 7,
     "metadata": {},
     "output_type": "execute_result"
    }
   ],
   "source": [
    "data.head()"
   ]
  },
  {
   "cell_type": "markdown",
   "id": "7f494ec9-1410-4bc6-92fb-39f05b320e3c",
   "metadata": {},
   "source": [
    "from transformers import MarianMTModel, MarianTokenizer\n",
    "\n",
    "model_name = \"Helsinki-NLP/opus-mt-tc-big-en-tr\"\n",
    "tokenizer = MarianTokenizer.from_pretrained(model_name)\n",
    "model = MarianMTModel.from_pretrained(model_name)\n",
    "\n",
    "# Çeviri fonksiyonunu tanımla\n",
    "def translate_text(text):\n",
    "    inputs = tokenizer([text], return_tensors=\"pt\", padding=True)\n",
    "    translated = model.generate(**inputs)\n",
    "    translated_text = tokenizer.decode(translated[0], skip_special_tokens=True)\n",
    "    return translated_text\n",
    "\n",
    "# DataFrame'deki her satır için çeviri işlemi uygula ve yeni bir kolona ekle\n",
    "data['Translated_Text'] = data['Text'].apply(translate_text)\n",
    "\n",
    "# Sonuçları göster\n",
    "print(data)\n"
   ]
  },
  {
   "cell_type": "code",
   "execution_count": null,
   "id": "c4922343-4e2a-45bc-990a-63dd58f6f1f5",
   "metadata": {},
   "outputs": [
    {
     "name": "stderr",
     "output_type": "stream",
     "text": [
      "C:\\Users\\ensar\\Desktop\\dogaldilisleme\\lib\\site-packages\\transformers\\models\\marian\\tokenization_marian.py:175: UserWarning: Recommended: pip install sacremoses.\n",
      "  warnings.warn(\"Recommended: pip install sacremoses.\")\n"
     ]
    }
   ],
   "source": [
    "from transformers import MarianMTModel, MarianTokenizer\n",
    "\n",
    "model_name = \"Helsinki-NLP/opus-mt-tc-big-en-tr\"\n",
    "tokenizer = MarianTokenizer.from_pretrained(model_name)\n",
    "model = MarianMTModel.from_pretrained(model_name)\n",
    "\n",
    "device = torch.device(\"cuda\" if torch.cuda.is_available() else \"cpu\")\n",
    "model.to(device)\n",
    "\n",
    "def batch_translate_text(texts, batch_size=8):\n",
    "    translated_texts = []\n",
    "    for i in range(0, len(texts), batch_size):\n",
    "        batch_texts = texts[i:i + batch_size]\n",
    "        inputs = tokenizer(batch_texts, return_tensors=\"pt\", padding=True, truncation=True).to(device)\n",
    "        translated = model.generate(**inputs)\n",
    "        translated_batch = [tokenizer.decode(t, skip_special_tokens=True) for t in translated]\n",
    "        translated_texts.extend(translated_batch)\n",
    "    return translated_texts\n",
    "\n",
    "texts = data['Text'].tolist()\n",
    "translated_texts = batch_translate_text(texts)\n",
    "\n",
    "data['Translated_Text'] = translated_texts\n",
    "\n",
    "print(data)"
   ]
  },
  {
   "cell_type": "code",
   "execution_count": null,
   "id": "a97f3815-5a4e-42e0-959f-a318e13f1cbe",
   "metadata": {},
   "outputs": [],
   "source": [
    "data.head()"
   ]
  },
  {
   "cell_type": "markdown",
   "id": "6c8b1b2f-94dc-4077-9211-0d6ef29f1277",
   "metadata": {},
   "source": [
    "data.to_csv(\"agoraphobia_translated_to_tr\", index=False)"
   ]
  },
  {
   "cell_type": "markdown",
   "id": "cd1197b1-898c-4626-beda-e326e15aa4db",
   "metadata": {},
   "source": [
    "df = pd.read_csv(\"agoraphobia_translated_to_tr\")"
   ]
  },
  {
   "cell_type": "code",
   "execution_count": null,
   "id": "3732e1fc-a12d-4235-b76c-469ecc489d3d",
   "metadata": {},
   "outputs": [],
   "source": []
  }
 ],
 "metadata": {
  "kernelspec": {
   "display_name": "Python 3 (ipykernel)",
   "language": "python",
   "name": "python3"
  },
  "language_info": {
   "codemirror_mode": {
    "name": "ipython",
    "version": 3
   },
   "file_extension": ".py",
   "mimetype": "text/x-python",
   "name": "python",
   "nbconvert_exporter": "python",
   "pygments_lexer": "ipython3",
   "version": "3.10.2"
  }
 },
 "nbformat": 4,
 "nbformat_minor": 5
}
