{
 "cells": [
  {
   "cell_type": "code",
   "execution_count": 8,
   "id": "be87c1f3-27f8-40a9-b8c3-6eb08c4624d1",
   "metadata": {},
   "outputs": [],
   "source": [
    "from transformers import AutoTokenizer, AutoModelForSeq2SeqLM\n",
    "import torch\n",
    "import pandas as pd"
   ]
  },
  {
   "cell_type": "code",
   "execution_count": 9,
   "id": "5b993339-a065-4832-a570-f32796666799",
   "metadata": {},
   "outputs": [],
   "source": [
    "data = pd.read_csv(\"Data/socialanxiety_llm_filtered_en.csv\")"
   ]
  },
  {
   "cell_type": "code",
   "execution_count": 10,
   "id": "62c9ef8b-fbeb-4f75-8b8c-0f122be83bfe",
   "metadata": {},
   "outputs": [],
   "source": [
    "pd.set_option('display.max_colwidth', None)"
   ]
  },
  {
   "cell_type": "code",
   "execution_count": 11,
   "id": "c974a4c3-5809-45a8-a392-fa4f364883ea",
   "metadata": {},
   "outputs": [
    {
     "name": "stdout",
     "output_type": "stream",
     "text": [
      "<class 'pandas.core.frame.DataFrame'>\n",
      "RangeIndex: 868 entries, 0 to 867\n",
      "Data columns (total 2 columns):\n",
      " #   Column  Non-Null Count  Dtype \n",
      "---  ------  --------------  ----- \n",
      " 0   Result  868 non-null    object\n",
      " 1   Text    867 non-null    object\n",
      "dtypes: object(2)\n",
      "memory usage: 13.7+ KB\n"
     ]
    }
   ],
   "source": [
    "data.info()"
   ]
  },
  {
   "cell_type": "code",
   "execution_count": 12,
   "id": "99c3e8fd-0fd3-44d7-9292-10f365e39fe6",
   "metadata": {},
   "outputs": [],
   "source": [
    "data = data[data['Text'].apply(lambda x: isinstance(x, str))]"
   ]
  },
  {
   "cell_type": "code",
   "execution_count": 13,
   "id": "cbffff04-9d45-45ff-84a3-3103a89ca27c",
   "metadata": {},
   "outputs": [
    {
     "name": "stdout",
     "output_type": "stream",
     "text": [
      "<class 'pandas.core.frame.DataFrame'>\n",
      "Index: 867 entries, 0 to 867\n",
      "Data columns (total 2 columns):\n",
      " #   Column  Non-Null Count  Dtype \n",
      "---  ------  --------------  ----- \n",
      " 0   Result  867 non-null    object\n",
      " 1   Text    867 non-null    object\n",
      "dtypes: object(2)\n",
      "memory usage: 20.3+ KB\n"
     ]
    }
   ],
   "source": [
    "data.info()"
   ]
  },
  {
   "cell_type": "code",
   "execution_count": 14,
   "id": "f5ab5a82-218d-4c60-8210-e94bfa447a74",
   "metadata": {},
   "outputs": [
    {
     "data": {
      "text/html": [
       "<div>\n",
       "<style scoped>\n",
       "    .dataframe tbody tr th:only-of-type {\n",
       "        vertical-align: middle;\n",
       "    }\n",
       "\n",
       "    .dataframe tbody tr th {\n",
       "        vertical-align: top;\n",
       "    }\n",
       "\n",
       "    .dataframe thead th {\n",
       "        text-align: right;\n",
       "    }\n",
       "</style>\n",
       "<table border=\"1\" class=\"dataframe\">\n",
       "  <thead>\n",
       "    <tr style=\"text-align: right;\">\n",
       "      <th></th>\n",
       "      <th>Result</th>\n",
       "      <th>Text</th>\n",
       "    </tr>\n",
       "  </thead>\n",
       "  <tbody>\n",
       "    <tr>\n",
       "      <th>0</th>\n",
       "      <td>yes</td>\n",
       "      <td>I can’t socialize or be around people unless I’m intoxicated in some way.</td>\n",
       "    </tr>\n",
       "    <tr>\n",
       "      <th>1</th>\n",
       "      <td>yes</td>\n",
       "      <td>I've been struggling with social anxiety recently, especially around people who know me. Lately, I've noticed that I start itching intensely in these situations.</td>\n",
       "    </tr>\n",
       "    <tr>\n",
       "      <th>2</th>\n",
       "      <td>yes</td>\n",
       "      <td>oh its okay, i can always suicide. its like having a 'i can always suicide if something goes wrong' kind of a mindset</td>\n",
       "    </tr>\n",
       "    <tr>\n",
       "      <th>3</th>\n",
       "      <td>yes</td>\n",
       "      <td>Do people hate me or am I overthinking it?</td>\n",
       "    </tr>\n",
       "    <tr>\n",
       "      <th>4</th>\n",
       "      <td>yes</td>\n",
       "      <td>I feel so bad since I'm usually organized, and I took it very serious. I know I'm only a human and we all make mistakes, I'll definitely not do it again that's for sure. So technically I should just stop thinking about it, but I can't. I'm so scared I'll get scolded in front of everyone tomorrow and idk what to do because I don't know how I'll react if that happens, although I don't think it'll happen.</td>\n",
       "    </tr>\n",
       "  </tbody>\n",
       "</table>\n",
       "</div>"
      ],
      "text/plain": [
       "  Result  \\\n",
       "0    yes   \n",
       "1    yes   \n",
       "2    yes   \n",
       "3    yes   \n",
       "4    yes   \n",
       "\n",
       "                                                                                                                                                                                                                                                                                                                                                                                                                    Text  \n",
       "0                                                                                                                                                                                                                                                                                                                                              I can’t socialize or be around people unless I’m intoxicated in some way.  \n",
       "1                                                                                                                                                                                                                                                      I've been struggling with social anxiety recently, especially around people who know me. Lately, I've noticed that I start itching intensely in these situations.  \n",
       "2                                                                                                                                                                                                                                                                                                  oh its okay, i can always suicide. its like having a 'i can always suicide if something goes wrong' kind of a mindset  \n",
       "3                                                                                                                                                                                                                                                                                                                                                                             Do people hate me or am I overthinking it?  \n",
       "4  I feel so bad since I'm usually organized, and I took it very serious. I know I'm only a human and we all make mistakes, I'll definitely not do it again that's for sure. So technically I should just stop thinking about it, but I can't. I'm so scared I'll get scolded in front of everyone tomorrow and idk what to do because I don't know how I'll react if that happens, although I don't think it'll happen.  "
      ]
     },
     "execution_count": 14,
     "metadata": {},
     "output_type": "execute_result"
    }
   ],
   "source": [
    "data.head()"
   ]
  },
  {
   "cell_type": "code",
   "execution_count": 15,
   "id": "c4922343-4e2a-45bc-990a-63dd58f6f1f5",
   "metadata": {},
   "outputs": [
    {
     "name": "stderr",
     "output_type": "stream",
     "text": [
      "C:\\Users\\ensar\\Desktop\\dogaldilisleme\\lib\\site-packages\\transformers\\models\\marian\\tokenization_marian.py:175: UserWarning: Recommended: pip install sacremoses.\n",
      "  warnings.warn(\"Recommended: pip install sacremoses.\")\n"
     ]
    },
    {
     "name": "stdout",
     "output_type": "stream",
     "text": [
      "    Result  \\\n",
      "0      yes   \n",
      "1      yes   \n",
      "2      yes   \n",
      "3      yes   \n",
      "4      yes   \n",
      "..     ...   \n",
      "863    yes   \n",
      "864    yes   \n",
      "865    yes   \n",
      "866    yes   \n",
      "867    yes   \n",
      "\n",
      "                                                                                                                                                                                                                                                                                                                                                                                                                                                                                                                                                                                           Text  \\\n",
      "0                                                                                                                                                                                                                                                                                                                                                                                                                                                                                                                     I can’t socialize or be around people unless I’m intoxicated in some way.   \n",
      "1                                                                                                                                                                                                                                                                                                                                                                                                                             I've been struggling with social anxiety recently, especially around people who know me. Lately, I've noticed that I start itching intensely in these situations.   \n",
      "2                                                                                                                                                                                                                                                                                                                                                                                                                                                                         oh its okay, i can always suicide. its like having a 'i can always suicide if something goes wrong' kind of a mindset   \n",
      "3                                                                                                                                                                                                                                                                                                                                                                                                                                                                                                                                                    Do people hate me or am I overthinking it?   \n",
      "4                                                                                                                                                                         I feel so bad since I'm usually organized, and I took it very serious. I know I'm only a human and we all make mistakes, I'll definitely not do it again that's for sure. So technically I should just stop thinking about it, but I can't. I'm so scared I'll get scolded in front of everyone tomorrow and idk what to do because I don't know how I'll react if that happens, although I don't think it'll happen.   \n",
      "..                                                                                                                                                                                                                                                                                                                                                                                                                                                                                                                                                                                          ...   \n",
      "863  I haven’t interviewed in ages because I’ve been at my current job for a while and totally avoided looking for another one (due to interviewing and social anxiety)... I’m anxious for a whole week. SO anxious. ...I feel like I’ve destroyed this contact/relationship that I have by doing so poorly… I just had to talk about this because I can’t stop thinking about how bad I am at interviewing. I just hate the whole process. I’m so angry at myself and I feel depressed about the whole thing. I’m just cringing so much replaying back what I said. I’m so so angry at myself.   \n",
      "864                                                                                                                                                                                                                                                                                                                When I watch videos and they look into the camera it feels like they can see me. Like I'm in a conversarion with them and they judge me, how I look or when I eat for an example. In public when I talk to someone I imagine the things they say like 'she can't even speak'   \n",
      "865                                                                                                                                                                                                                                                                                                                                                                                                                                       Haven’t been able to work or get groceries for weeks. Even driving feels too social for me now. I’m also self medicating a lot with alcohol and drugs   \n",
      "866                                                                                                                                                                                                                                                                                                                                                                                                                     im scared to go out and do normal things, i get nervous when i have to talk to people, literally every morning before school my heart drops to my stomach for no reason   \n",
      "867                                                                                                                                                                                                                                                                                                                                                                                      I have a hard time going through with plans, i’m awkward and even texting sometimes gets hard for me. So I just end up alone time and time again. I’m stuck in my own head and borderline agoraphobic.   \n",
      "\n",
      "                                                                                                                                                                                                                                                                                                                                                                                                                                                        Translated_Text  \n",
      "0                                                                                                                                                                                                                                                                                                                                                                                  Bir şekilde sarhoş olmadığım sürece sosyalleşemem ya da insanların etrafında olamam.  \n",
      "1                                                                                                                                                                                                                                                                                       Son zamanlarda sosyal kaygılarla boğuşuyorum, özellikle de beni tanıyan insanların etrafında. Son zamanlarda, bu durumlarda yoğun bir şekilde kaşınmaya başladığımı fark ettim.  \n",
      "2                                                                                                                                                                                                                                                                                                                                  Oh tamam, her zaman intihar edebilirim. 'Bir şeyler ters giderse her zaman intihar edebilirim' zihniyetine sahip olmak gibi bir şey.  \n",
      "3                                                                                                                                                                                                                                                                                                                                                                                                      İnsanlar benden nefret mi ediyor yoksa ben mi aşırı düşünüyorum?  \n",
      "4                                                                             Genellikle organize olduğum için kendimi çok kötü hissediyorum ve çok ciddiye aldım. Biliyorum ben sadece bir insanım ve hepimiz hata yapıyoruz, kesinlikle bir daha yapmayacağım, bu kesin. Bu yüzden teknik olarak düşünmeyi bırakmalıyım, ama yapamam. Yarın herkesin önünde azarlanacağım ve ne yapacağımı bilmiyorum, çünkü böyle bir şey olmazsa nasıl tepki vereceğimi bilmiyorum.  \n",
      "..                                                                                                                                                                                                                                                                                                                                                                                                                                                                  ...  \n",
      "863  Uzun zamandır röportaj yapmadım çünkü bir süredir mevcut işimdeydim ve başka bir tane (görüşme ve sosyal kaygı nedeniyle) aramaktan tamamen kaçındım... Bütün bir hafta boyunca endişeliyim. Çok endişeliyim....Bu kadar kötü yaparak sahip olduğum bu teması / ilişkiyi mahvettiğimi hissediyorum... Sadece bunun hakkında konuşmak zorunda kaldım çünkü röportaj yaparken ne kadar kötü olduğumu düşünmeden duramıyorum. Sadece tüm bu süreçten nefret ediyorum.  \n",
      "864                                                                                                                                                             Videoları izlediğimde ve kameraya baktıklarında sanki beni görebiliyorlarmış gibi hissediyorum. Onlarla bir tartışma içindeymişim gibi ve beni yargılıyorlar, nasıl göründüğümü ya da bir örnek için yemek yediğimi. Biriyle konuştuğumda, 'konuşamıyor bile' gibi söyledikleri şeyleri hayal ediyorum.  \n",
      "865                                                                                                                                                                                                                                                                                        Haftalardır ne çalışabildim ne de bakkaliye alabildim. Araba kullanmak bile artık benim için çok sosyal geliyor. Ayrıca alkol ve uyuşturucu ile çok fazla ilaç kullanıyorum.  \n",
      "866                                                                                                                                                                                                                                                                 Dışarı çıkmaktan ve normal şeyler yapmaktan korkuyorum, insanlarla konuşmak zorunda kaldığımda gergin oluyorum, kelimenin tam anlamıyla her sabah okuldan önce kalbim sebepsiz yere mideme düşüyor.  \n",
      "867                                                                                                                                                                                                                                                                           Planlarla uğraşmakta zorlanıyorum, tuhafım ve hatta bazen mesajlaşmak benim için zorlaşıyor. Bu yüzden tekrar tekrar yalnız kalıyorum. Kendi kafama ve sınır çizgisi agorafobik takıldım.  \n",
      "\n",
      "[867 rows x 3 columns]\n"
     ]
    }
   ],
   "source": [
    "from transformers import MarianMTModel, MarianTokenizer\n",
    "\n",
    "model_name = \"Helsinki-NLP/opus-mt-tc-big-en-tr\"\n",
    "tokenizer = MarianTokenizer.from_pretrained(model_name)\n",
    "model = MarianMTModel.from_pretrained(model_name)\n",
    "\n",
    "device = torch.device(\"cuda\" if torch.cuda.is_available() else \"cpu\")\n",
    "model.to(device)\n",
    "\n",
    "def batch_translate_text(texts, batch_size=8):\n",
    "    translated_texts = []\n",
    "    for i in range(0, len(texts), batch_size):\n",
    "        batch_texts = texts[i:i + batch_size]\n",
    "        inputs = tokenizer(batch_texts, return_tensors=\"pt\", padding=True, truncation=True).to(device)\n",
    "        translated = model.generate(**inputs)\n",
    "        translated_batch = [tokenizer.decode(t, skip_special_tokens=True) for t in translated]\n",
    "        translated_texts.extend(translated_batch)\n",
    "    return translated_texts\n",
    "\n",
    "texts = data['Text'].tolist()\n",
    "translated_texts = batch_translate_text(texts)\n",
    "\n",
    "data['Translated_Text'] = translated_texts\n",
    "\n",
    "print(data)"
   ]
  },
  {
   "cell_type": "code",
   "execution_count": 16,
   "id": "a97f3815-5a4e-42e0-959f-a318e13f1cbe",
   "metadata": {},
   "outputs": [
    {
     "data": {
      "text/html": [
       "<div>\n",
       "<style scoped>\n",
       "    .dataframe tbody tr th:only-of-type {\n",
       "        vertical-align: middle;\n",
       "    }\n",
       "\n",
       "    .dataframe tbody tr th {\n",
       "        vertical-align: top;\n",
       "    }\n",
       "\n",
       "    .dataframe thead th {\n",
       "        text-align: right;\n",
       "    }\n",
       "</style>\n",
       "<table border=\"1\" class=\"dataframe\">\n",
       "  <thead>\n",
       "    <tr style=\"text-align: right;\">\n",
       "      <th></th>\n",
       "      <th>Result</th>\n",
       "      <th>Text</th>\n",
       "      <th>Translated_Text</th>\n",
       "    </tr>\n",
       "  </thead>\n",
       "  <tbody>\n",
       "    <tr>\n",
       "      <th>0</th>\n",
       "      <td>yes</td>\n",
       "      <td>I can’t socialize or be around people unless I’m intoxicated in some way.</td>\n",
       "      <td>Bir şekilde sarhoş olmadığım sürece sosyalleşemem ya da insanların etrafında olamam.</td>\n",
       "    </tr>\n",
       "    <tr>\n",
       "      <th>1</th>\n",
       "      <td>yes</td>\n",
       "      <td>I've been struggling with social anxiety recently, especially around people who know me. Lately, I've noticed that I start itching intensely in these situations.</td>\n",
       "      <td>Son zamanlarda sosyal kaygılarla boğuşuyorum, özellikle de beni tanıyan insanların etrafında. Son zamanlarda, bu durumlarda yoğun bir şekilde kaşınmaya başladığımı fark ettim.</td>\n",
       "    </tr>\n",
       "    <tr>\n",
       "      <th>2</th>\n",
       "      <td>yes</td>\n",
       "      <td>oh its okay, i can always suicide. its like having a 'i can always suicide if something goes wrong' kind of a mindset</td>\n",
       "      <td>Oh tamam, her zaman intihar edebilirim. 'Bir şeyler ters giderse her zaman intihar edebilirim' zihniyetine sahip olmak gibi bir şey.</td>\n",
       "    </tr>\n",
       "    <tr>\n",
       "      <th>3</th>\n",
       "      <td>yes</td>\n",
       "      <td>Do people hate me or am I overthinking it?</td>\n",
       "      <td>İnsanlar benden nefret mi ediyor yoksa ben mi aşırı düşünüyorum?</td>\n",
       "    </tr>\n",
       "    <tr>\n",
       "      <th>4</th>\n",
       "      <td>yes</td>\n",
       "      <td>I feel so bad since I'm usually organized, and I took it very serious. I know I'm only a human and we all make mistakes, I'll definitely not do it again that's for sure. So technically I should just stop thinking about it, but I can't. I'm so scared I'll get scolded in front of everyone tomorrow and idk what to do because I don't know how I'll react if that happens, although I don't think it'll happen.</td>\n",
       "      <td>Genellikle organize olduğum için kendimi çok kötü hissediyorum ve çok ciddiye aldım. Biliyorum ben sadece bir insanım ve hepimiz hata yapıyoruz, kesinlikle bir daha yapmayacağım, bu kesin. Bu yüzden teknik olarak düşünmeyi bırakmalıyım, ama yapamam. Yarın herkesin önünde azarlanacağım ve ne yapacağımı bilmiyorum, çünkü böyle bir şey olmazsa nasıl tepki vereceğimi bilmiyorum.</td>\n",
       "    </tr>\n",
       "    <tr>\n",
       "      <th>...</th>\n",
       "      <td>...</td>\n",
       "      <td>...</td>\n",
       "      <td>...</td>\n",
       "    </tr>\n",
       "    <tr>\n",
       "      <th>863</th>\n",
       "      <td>yes</td>\n",
       "      <td>I haven’t interviewed in ages because I’ve been at my current job for a while and totally avoided looking for another one (due to interviewing and social anxiety)... I’m anxious for a whole week. SO anxious. ...I feel like I’ve destroyed this contact/relationship that I have by doing so poorly… I just had to talk about this because I can’t stop thinking about how bad I am at interviewing. I just hate the whole process. I’m so angry at myself and I feel depressed about the whole thing. I’m just cringing so much replaying back what I said. I’m so so angry at myself.</td>\n",
       "      <td>Uzun zamandır röportaj yapmadım çünkü bir süredir mevcut işimdeydim ve başka bir tane (görüşme ve sosyal kaygı nedeniyle) aramaktan tamamen kaçındım... Bütün bir hafta boyunca endişeliyim. Çok endişeliyim....Bu kadar kötü yaparak sahip olduğum bu teması / ilişkiyi mahvettiğimi hissediyorum... Sadece bunun hakkında konuşmak zorunda kaldım çünkü röportaj yaparken ne kadar kötü olduğumu düşünmeden duramıyorum. Sadece tüm bu süreçten nefret ediyorum.</td>\n",
       "    </tr>\n",
       "    <tr>\n",
       "      <th>864</th>\n",
       "      <td>yes</td>\n",
       "      <td>When I watch videos and they look into the camera it feels like they can see me. Like I'm in a conversarion with them and they judge me, how I look or when I eat for an example. In public when I talk to someone I imagine the things they say like 'she can't even speak'</td>\n",
       "      <td>Videoları izlediğimde ve kameraya baktıklarında sanki beni görebiliyorlarmış gibi hissediyorum. Onlarla bir tartışma içindeymişim gibi ve beni yargılıyorlar, nasıl göründüğümü ya da bir örnek için yemek yediğimi. Biriyle konuştuğumda, 'konuşamıyor bile' gibi söyledikleri şeyleri hayal ediyorum.</td>\n",
       "    </tr>\n",
       "    <tr>\n",
       "      <th>865</th>\n",
       "      <td>yes</td>\n",
       "      <td>Haven’t been able to work or get groceries for weeks. Even driving feels too social for me now. I’m also self medicating a lot with alcohol and drugs</td>\n",
       "      <td>Haftalardır ne çalışabildim ne de bakkaliye alabildim. Araba kullanmak bile artık benim için çok sosyal geliyor. Ayrıca alkol ve uyuşturucu ile çok fazla ilaç kullanıyorum.</td>\n",
       "    </tr>\n",
       "    <tr>\n",
       "      <th>866</th>\n",
       "      <td>yes</td>\n",
       "      <td>im scared to go out and do normal things, i get nervous when i have to talk to people, literally every morning before school my heart drops to my stomach for no reason</td>\n",
       "      <td>Dışarı çıkmaktan ve normal şeyler yapmaktan korkuyorum, insanlarla konuşmak zorunda kaldığımda gergin oluyorum, kelimenin tam anlamıyla her sabah okuldan önce kalbim sebepsiz yere mideme düşüyor.</td>\n",
       "    </tr>\n",
       "    <tr>\n",
       "      <th>867</th>\n",
       "      <td>yes</td>\n",
       "      <td>I have a hard time going through with plans, i’m awkward and even texting sometimes gets hard for me. So I just end up alone time and time again. I’m stuck in my own head and borderline agoraphobic.</td>\n",
       "      <td>Planlarla uğraşmakta zorlanıyorum, tuhafım ve hatta bazen mesajlaşmak benim için zorlaşıyor. Bu yüzden tekrar tekrar yalnız kalıyorum. Kendi kafama ve sınır çizgisi agorafobik takıldım.</td>\n",
       "    </tr>\n",
       "  </tbody>\n",
       "</table>\n",
       "<p>867 rows × 3 columns</p>\n",
       "</div>"
      ],
      "text/plain": [
       "    Result  \\\n",
       "0      yes   \n",
       "1      yes   \n",
       "2      yes   \n",
       "3      yes   \n",
       "4      yes   \n",
       "..     ...   \n",
       "863    yes   \n",
       "864    yes   \n",
       "865    yes   \n",
       "866    yes   \n",
       "867    yes   \n",
       "\n",
       "                                                                                                                                                                                                                                                                                                                                                                                                                                                                                                                                                                                           Text  \\\n",
       "0                                                                                                                                                                                                                                                                                                                                                                                                                                                                                                                     I can’t socialize or be around people unless I’m intoxicated in some way.   \n",
       "1                                                                                                                                                                                                                                                                                                                                                                                                                             I've been struggling with social anxiety recently, especially around people who know me. Lately, I've noticed that I start itching intensely in these situations.   \n",
       "2                                                                                                                                                                                                                                                                                                                                                                                                                                                                         oh its okay, i can always suicide. its like having a 'i can always suicide if something goes wrong' kind of a mindset   \n",
       "3                                                                                                                                                                                                                                                                                                                                                                                                                                                                                                                                                    Do people hate me or am I overthinking it?   \n",
       "4                                                                                                                                                                         I feel so bad since I'm usually organized, and I took it very serious. I know I'm only a human and we all make mistakes, I'll definitely not do it again that's for sure. So technically I should just stop thinking about it, but I can't. I'm so scared I'll get scolded in front of everyone tomorrow and idk what to do because I don't know how I'll react if that happens, although I don't think it'll happen.   \n",
       "..                                                                                                                                                                                                                                                                                                                                                                                                                                                                                                                                                                                          ...   \n",
       "863  I haven’t interviewed in ages because I’ve been at my current job for a while and totally avoided looking for another one (due to interviewing and social anxiety)... I’m anxious for a whole week. SO anxious. ...I feel like I’ve destroyed this contact/relationship that I have by doing so poorly… I just had to talk about this because I can’t stop thinking about how bad I am at interviewing. I just hate the whole process. I’m so angry at myself and I feel depressed about the whole thing. I’m just cringing so much replaying back what I said. I’m so so angry at myself.   \n",
       "864                                                                                                                                                                                                                                                                                                                When I watch videos and they look into the camera it feels like they can see me. Like I'm in a conversarion with them and they judge me, how I look or when I eat for an example. In public when I talk to someone I imagine the things they say like 'she can't even speak'   \n",
       "865                                                                                                                                                                                                                                                                                                                                                                                                                                       Haven’t been able to work or get groceries for weeks. Even driving feels too social for me now. I’m also self medicating a lot with alcohol and drugs   \n",
       "866                                                                                                                                                                                                                                                                                                                                                                                                                     im scared to go out and do normal things, i get nervous when i have to talk to people, literally every morning before school my heart drops to my stomach for no reason   \n",
       "867                                                                                                                                                                                                                                                                                                                                                                                      I have a hard time going through with plans, i’m awkward and even texting sometimes gets hard for me. So I just end up alone time and time again. I’m stuck in my own head and borderline agoraphobic.   \n",
       "\n",
       "                                                                                                                                                                                                                                                                                                                                                                                                                                                        Translated_Text  \n",
       "0                                                                                                                                                                                                                                                                                                                                                                                  Bir şekilde sarhoş olmadığım sürece sosyalleşemem ya da insanların etrafında olamam.  \n",
       "1                                                                                                                                                                                                                                                                                       Son zamanlarda sosyal kaygılarla boğuşuyorum, özellikle de beni tanıyan insanların etrafında. Son zamanlarda, bu durumlarda yoğun bir şekilde kaşınmaya başladığımı fark ettim.  \n",
       "2                                                                                                                                                                                                                                                                                                                                  Oh tamam, her zaman intihar edebilirim. 'Bir şeyler ters giderse her zaman intihar edebilirim' zihniyetine sahip olmak gibi bir şey.  \n",
       "3                                                                                                                                                                                                                                                                                                                                                                                                      İnsanlar benden nefret mi ediyor yoksa ben mi aşırı düşünüyorum?  \n",
       "4                                                                             Genellikle organize olduğum için kendimi çok kötü hissediyorum ve çok ciddiye aldım. Biliyorum ben sadece bir insanım ve hepimiz hata yapıyoruz, kesinlikle bir daha yapmayacağım, bu kesin. Bu yüzden teknik olarak düşünmeyi bırakmalıyım, ama yapamam. Yarın herkesin önünde azarlanacağım ve ne yapacağımı bilmiyorum, çünkü böyle bir şey olmazsa nasıl tepki vereceğimi bilmiyorum.  \n",
       "..                                                                                                                                                                                                                                                                                                                                                                                                                                                                  ...  \n",
       "863  Uzun zamandır röportaj yapmadım çünkü bir süredir mevcut işimdeydim ve başka bir tane (görüşme ve sosyal kaygı nedeniyle) aramaktan tamamen kaçındım... Bütün bir hafta boyunca endişeliyim. Çok endişeliyim....Bu kadar kötü yaparak sahip olduğum bu teması / ilişkiyi mahvettiğimi hissediyorum... Sadece bunun hakkında konuşmak zorunda kaldım çünkü röportaj yaparken ne kadar kötü olduğumu düşünmeden duramıyorum. Sadece tüm bu süreçten nefret ediyorum.  \n",
       "864                                                                                                                                                             Videoları izlediğimde ve kameraya baktıklarında sanki beni görebiliyorlarmış gibi hissediyorum. Onlarla bir tartışma içindeymişim gibi ve beni yargılıyorlar, nasıl göründüğümü ya da bir örnek için yemek yediğimi. Biriyle konuştuğumda, 'konuşamıyor bile' gibi söyledikleri şeyleri hayal ediyorum.  \n",
       "865                                                                                                                                                                                                                                                                                        Haftalardır ne çalışabildim ne de bakkaliye alabildim. Araba kullanmak bile artık benim için çok sosyal geliyor. Ayrıca alkol ve uyuşturucu ile çok fazla ilaç kullanıyorum.  \n",
       "866                                                                                                                                                                                                                                                                 Dışarı çıkmaktan ve normal şeyler yapmaktan korkuyorum, insanlarla konuşmak zorunda kaldığımda gergin oluyorum, kelimenin tam anlamıyla her sabah okuldan önce kalbim sebepsiz yere mideme düşüyor.  \n",
       "867                                                                                                                                                                                                                                                                           Planlarla uğraşmakta zorlanıyorum, tuhafım ve hatta bazen mesajlaşmak benim için zorlaşıyor. Bu yüzden tekrar tekrar yalnız kalıyorum. Kendi kafama ve sınır çizgisi agorafobik takıldım.  \n",
       "\n",
       "[867 rows x 3 columns]"
      ]
     },
     "execution_count": 16,
     "metadata": {},
     "output_type": "execute_result"
    }
   ],
   "source": [
    "data"
   ]
  },
  {
   "cell_type": "markdown",
   "id": "7cfba9a5-32e7-4489-9642-f2a429ee82d8",
   "metadata": {},
   "source": [
    "data.to_excel(\"panicdisorder_translated_to_tr.xlsx\", index=False)"
   ]
  },
  {
   "cell_type": "code",
   "execution_count": null,
   "id": "3732e1fc-a12d-4235-b76c-469ecc489d3d",
   "metadata": {},
   "outputs": [],
   "source": []
  },
  {
   "cell_type": "code",
   "execution_count": null,
   "id": "e8c16e8e-fff8-437a-9dc0-ee761637877d",
   "metadata": {},
   "outputs": [],
   "source": []
  }
 ],
 "metadata": {
  "kernelspec": {
   "display_name": "Python 3 (ipykernel)",
   "language": "python",
   "name": "python3"
  },
  "language_info": {
   "codemirror_mode": {
    "name": "ipython",
    "version": 3
   },
   "file_extension": ".py",
   "mimetype": "text/x-python",
   "name": "python",
   "nbconvert_exporter": "python",
   "pygments_lexer": "ipython3",
   "version": "3.10.2"
  }
 },
 "nbformat": 4,
 "nbformat_minor": 5
}
