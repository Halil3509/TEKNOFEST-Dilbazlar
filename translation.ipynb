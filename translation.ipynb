{
 "cells": [
  {
   "cell_type": "code",
   "execution_count": 1,
   "id": "be87c1f3-27f8-40a9-b8c3-6eb08c4624d1",
   "metadata": {},
   "outputs": [],
   "source": [
    "from transformers import AutoTokenizer, AutoModelForSeq2SeqLM\n",
    "import torch\n",
    "import pandas as pd"
   ]
  },
  {
   "cell_type": "code",
   "execution_count": 2,
   "id": "5b993339-a065-4832-a570-f32796666799",
   "metadata": {},
   "outputs": [],
   "source": [
    "data = pd.read_csv(\"filtered_data.csv\")"
   ]
  },
  {
   "cell_type": "code",
   "execution_count": 3,
   "id": "62c9ef8b-fbeb-4f75-8b8c-0f122be83bfe",
   "metadata": {},
   "outputs": [],
   "source": [
    "pd.set_option('display.max_colwidth', None)"
   ]
  },
  {
   "cell_type": "code",
   "execution_count": 3,
   "id": "c974a4c3-5809-45a8-a392-fa4f364883ea",
   "metadata": {},
   "outputs": [
    {
     "name": "stdout",
     "output_type": "stream",
     "text": [
      "<class 'pandas.core.frame.DataFrame'>\n",
      "RangeIndex: 3743 entries, 0 to 3742\n",
      "Data columns (total 3 columns):\n",
      " #   Column      Non-Null Count  Dtype \n",
      "---  ------      --------------  ----- \n",
      " 0   Unnamed: 0  3743 non-null   int64 \n",
      " 1   Result      3743 non-null   object\n",
      " 2   Text        3743 non-null   object\n",
      "dtypes: int64(1), object(2)\n",
      "memory usage: 87.9+ KB\n"
     ]
    }
   ],
   "source": [
    "data.info()"
   ]
  },
  {
   "cell_type": "code",
   "execution_count": 12,
   "id": "65ab93ab-4f7d-4690-beed-2ebc89d95a02",
   "metadata": {},
   "outputs": [
    {
     "data": {
      "text/html": [
       "<div>\n",
       "<style scoped>\n",
       "    .dataframe tbody tr th:only-of-type {\n",
       "        vertical-align: middle;\n",
       "    }\n",
       "\n",
       "    .dataframe tbody tr th {\n",
       "        vertical-align: top;\n",
       "    }\n",
       "\n",
       "    .dataframe thead th {\n",
       "        text-align: right;\n",
       "    }\n",
       "</style>\n",
       "<table border=\"1\" class=\"dataframe\">\n",
       "  <thead>\n",
       "    <tr style=\"text-align: right;\">\n",
       "      <th></th>\n",
       "      <th>Result</th>\n",
       "      <th>Text</th>\n",
       "    </tr>\n",
       "  </thead>\n",
       "  <tbody>\n",
       "    <tr>\n",
       "      <th>0</th>\n",
       "      <td>yes</td>\n",
       "      <td>I've always been very hard on myself to be thi...</td>\n",
       "    </tr>\n",
       "    <tr>\n",
       "      <th>1</th>\n",
       "      <td>yes</td>\n",
       "      <td>I struggle a lot with motivation, to do someth...</td>\n",
       "    </tr>\n",
       "    <tr>\n",
       "      <th>2</th>\n",
       "      <td>yes</td>\n",
       "      <td>diagnosed with dysthymia a few months ago. psy...</td>\n",
       "    </tr>\n",
       "    <tr>\n",
       "      <th>3</th>\n",
       "      <td>yes</td>\n",
       "      <td>I keep cycling randomly through the same half ...</td>\n",
       "    </tr>\n",
       "    <tr>\n",
       "      <th>4</th>\n",
       "      <td>yes</td>\n",
       "      <td>I’ve been feeling actively bad for the past fe...</td>\n",
       "    </tr>\n",
       "  </tbody>\n",
       "</table>\n",
       "</div>"
      ],
      "text/plain": [
       "  Result                                               Text\n",
       "0    yes  I've always been very hard on myself to be thi...\n",
       "1    yes  I struggle a lot with motivation, to do someth...\n",
       "2    yes  diagnosed with dysthymia a few months ago. psy...\n",
       "3    yes  I keep cycling randomly through the same half ...\n",
       "4    yes  I’ve been feeling actively bad for the past fe..."
      ]
     },
     "execution_count": 12,
     "metadata": {},
     "output_type": "execute_result"
    }
   ],
   "source": [
    "data = data.drop(\"Unnamed: 0\" , axis=1 )\n",
    "data.head()\n"
   ]
  },
  {
   "cell_type": "code",
   "execution_count": 13,
   "id": "99c3e8fd-0fd3-44d7-9292-10f365e39fe6",
   "metadata": {},
   "outputs": [],
   "source": [
    "data = data[data['Text'].apply(lambda x: isinstance(x, str))]"
   ]
  },
  {
   "cell_type": "code",
   "execution_count": 14,
   "id": "cbffff04-9d45-45ff-84a3-3103a89ca27c",
   "metadata": {},
   "outputs": [
    {
     "name": "stdout",
     "output_type": "stream",
     "text": [
      "<class 'pandas.core.frame.DataFrame'>\n",
      "RangeIndex: 3743 entries, 0 to 3742\n",
      "Data columns (total 2 columns):\n",
      " #   Column  Non-Null Count  Dtype \n",
      "---  ------  --------------  ----- \n",
      " 0   Result  3743 non-null   object\n",
      " 1   Text    3743 non-null   object\n",
      "dtypes: object(2)\n",
      "memory usage: 58.6+ KB\n"
     ]
    }
   ],
   "source": [
    "data.info()"
   ]
  },
  {
   "cell_type": "code",
   "execution_count": 15,
   "id": "f5ab5a82-218d-4c60-8210-e94bfa447a74",
   "metadata": {},
   "outputs": [
    {
     "data": {
      "text/html": [
       "<div>\n",
       "<style scoped>\n",
       "    .dataframe tbody tr th:only-of-type {\n",
       "        vertical-align: middle;\n",
       "    }\n",
       "\n",
       "    .dataframe tbody tr th {\n",
       "        vertical-align: top;\n",
       "    }\n",
       "\n",
       "    .dataframe thead th {\n",
       "        text-align: right;\n",
       "    }\n",
       "</style>\n",
       "<table border=\"1\" class=\"dataframe\">\n",
       "  <thead>\n",
       "    <tr style=\"text-align: right;\">\n",
       "      <th></th>\n",
       "      <th>Result</th>\n",
       "      <th>Text</th>\n",
       "    </tr>\n",
       "  </thead>\n",
       "  <tbody>\n",
       "    <tr>\n",
       "      <th>0</th>\n",
       "      <td>yes</td>\n",
       "      <td>I've always been very hard on myself to be thi...</td>\n",
       "    </tr>\n",
       "    <tr>\n",
       "      <th>1</th>\n",
       "      <td>yes</td>\n",
       "      <td>I struggle a lot with motivation, to do someth...</td>\n",
       "    </tr>\n",
       "    <tr>\n",
       "      <th>2</th>\n",
       "      <td>yes</td>\n",
       "      <td>diagnosed with dysthymia a few months ago. psy...</td>\n",
       "    </tr>\n",
       "    <tr>\n",
       "      <th>3</th>\n",
       "      <td>yes</td>\n",
       "      <td>I keep cycling randomly through the same half ...</td>\n",
       "    </tr>\n",
       "    <tr>\n",
       "      <th>4</th>\n",
       "      <td>yes</td>\n",
       "      <td>I’ve been feeling actively bad for the past fe...</td>\n",
       "    </tr>\n",
       "  </tbody>\n",
       "</table>\n",
       "</div>"
      ],
      "text/plain": [
       "  Result                                               Text\n",
       "0    yes  I've always been very hard on myself to be thi...\n",
       "1    yes  I struggle a lot with motivation, to do someth...\n",
       "2    yes  diagnosed with dysthymia a few months ago. psy...\n",
       "3    yes  I keep cycling randomly through the same half ...\n",
       "4    yes  I’ve been feeling actively bad for the past fe..."
      ]
     },
     "execution_count": 15,
     "metadata": {},
     "output_type": "execute_result"
    }
   ],
   "source": [
    "data.head()"
   ]
  },
  {
   "cell_type": "markdown",
   "id": "7ae9116d-07fd-46a0-ac95-a39bf5054847",
   "metadata": {},
   "source": [
    "from transformers import MarianMTModel, MarianTokenizer\n",
    "\n",
    "model_name = \"Helsinki-NLP/opus-mt-tc-big-en-tr\"\n",
    "tokenizer = MarianTokenizer.from_pretrained(model_name)\n",
    "model = MarianMTModel.from_pretrained(model_name)\n",
    "\n",
    "device = torch.device(\"cuda\" if torch.cuda.is_available() else \"cpu\")\n",
    "model.to(device)\n",
    "\n",
    "def batch_translate_text(texts, batch_size=8):\n",
    "    translated_texts = []\n",
    "    for i in range(0, len(texts), batch_size):\n",
    "        batch_texts = texts[i:i + batch_size]\n",
    "        inputs = tokenizer(batch_texts, return_tensors=\"pt\", padding=True, truncation=True).to(device)\n",
    "        translated = model.generate(**inputs)\n",
    "        translated_batch = [tokenizer.decode(t, skip_special_tokens=True) for t in translated]\n",
    "        translated_texts.extend(translated_batch)\n",
    "    return translated_texts\n",
    "\n",
    "texts = data['Text'].tolist()\n",
    "translated_texts = batch_translate_text(texts)\n",
    "\n",
    "data['Translated_Text'] = translated_texts\n",
    "\n",
    "print(data)"
   ]
  },
  {
   "cell_type": "code",
   "execution_count": 16,
   "id": "7c935c0a-9934-4f88-a8c5-e3a808e46222",
   "metadata": {},
   "outputs": [
    {
     "data": {
      "application/vnd.jupyter.widget-view+json": {
       "model_id": "ac2d2b632fb84ab1bc877f0e7c3077eb",
       "version_major": 2,
       "version_minor": 0
      },
      "text/plain": [
       "source.spm:   0%|          | 0.00/797k [00:00<?, ?B/s]"
      ]
     },
     "metadata": {},
     "output_type": "display_data"
    },
    {
     "name": "stderr",
     "output_type": "stream",
     "text": [
      "c:\\Users\\AKAY\\AppData\\Local\\Programs\\Python\\Python310\\lib\\site-packages\\huggingface_hub\\file_download.py:157: UserWarning: `huggingface_hub` cache-system uses symlinks by default to efficiently store duplicated files but your machine does not support them in C:\\Users\\AKAY\\.cache\\huggingface\\hub\\models--Helsinki-NLP--opus-mt-tc-big-en-tr. Caching files will still work but in a degraded version that might require more space on your disk. This warning can be disabled by setting the `HF_HUB_DISABLE_SYMLINKS_WARNING` environment variable. For more details, see https://huggingface.co/docs/huggingface_hub/how-to-cache#limitations.\n",
      "To support symlinks on Windows, you either need to activate Developer Mode or to run Python as an administrator. In order to see activate developer mode, see this article: https://docs.microsoft.com/en-us/windows/apps/get-started/enable-your-device-for-development\n",
      "  warnings.warn(message)\n"
     ]
    },
    {
     "data": {
      "application/vnd.jupyter.widget-view+json": {
       "model_id": "dd379511e96744afb8ad229346534fdd",
       "version_major": 2,
       "version_minor": 0
      },
      "text/plain": [
       "target.spm:   0%|          | 0.00/833k [00:00<?, ?B/s]"
      ]
     },
     "metadata": {},
     "output_type": "display_data"
    },
    {
     "name": "stderr",
     "output_type": "stream",
     "text": [
      "c:\\Users\\AKAY\\AppData\\Local\\Programs\\Python\\Python310\\lib\\site-packages\\transformers\\models\\marian\\tokenization_marian.py:175: UserWarning: Recommended: pip install sacremoses.\n",
      "  warnings.warn(\"Recommended: pip install sacremoses.\")\n"
     ]
    },
    {
     "data": {
      "application/vnd.jupyter.widget-view+json": {
       "model_id": "919c6cfc6deb463f94d34646ffee1ca0",
       "version_major": 2,
       "version_minor": 0
      },
      "text/plain": [
       "config.json:   0%|          | 0.00/1.14k [00:00<?, ?B/s]"
      ]
     },
     "metadata": {},
     "output_type": "display_data"
    },
    {
     "data": {
      "application/vnd.jupyter.widget-view+json": {
       "model_id": "8b4b2c79d8824af5865f6c94139fd2b6",
       "version_major": 2,
       "version_minor": 0
      },
      "text/plain": [
       "pytorch_model.bin:   0%|          | 0.00/470M [00:00<?, ?B/s]"
      ]
     },
     "metadata": {},
     "output_type": "display_data"
    },
    {
     "data": {
      "application/vnd.jupyter.widget-view+json": {
       "model_id": "2fca023707474fbfb400b65271029336",
       "version_major": 2,
       "version_minor": 0
      },
      "text/plain": [
       "generation_config.json:   0%|          | 0.00/301 [00:00<?, ?B/s]"
      ]
     },
     "metadata": {},
     "output_type": "display_data"
    },
    {
     "name": "stderr",
     "output_type": "stream",
     "text": [
      "Translating: 100%|██████████| 468/468 [4:31:54<00:00, 34.86s/it]  "
     ]
    },
    {
     "name": "stdout",
     "output_type": "stream",
     "text": [
      "     Result                                               Text  \\\n",
      "0       yes  I've always been very hard on myself to be thi...   \n",
      "1       yes  I struggle a lot with motivation, to do someth...   \n",
      "2       yes  diagnosed with dysthymia a few months ago. psy...   \n",
      "3       yes  I keep cycling randomly through the same half ...   \n",
      "4       yes  I’ve been feeling actively bad for the past fe...   \n",
      "...     ...                                                ...   \n",
      "3738    yes  my symptoms are worse than before, low confide...   \n",
      "3739    yes  It gets worse when they start losing interest ...   \n",
      "3740    yes                     I got diagnosed with Dysthymia   \n",
      "3741    yes  I can relate to a lot of symptoms but not all ...   \n",
      "3742    yes  I'm starting to think I should never feel bett...   \n",
      "\n",
      "                                        Translated_Text  \n",
      "0     Bu mükemmel ideal olmak için her zaman kendime...  \n",
      "1     Motivasyonla çok mücadele ediyorum, hayatımla ...  \n",
      "2     Birkaç ay önce distimi teşhisi kondu. Psişik t...  \n",
      "3     Aynı yarım düzine sayfa ve aramada rastgele bi...  \n",
      "4     Sadece meh hissetmek yerine son birkaç haftadı...  \n",
      "...                                                 ...  \n",
      "3738  Belirtilerim eskisinden daha kötü, düşük özgüv...  \n",
      "3739  Sevdikleri şeylere olan ilgilerini kaybetmeye ...  \n",
      "3740                           Dysthymia teşhisi kondu.  \n",
      "3741  Birçok semptomla ilişki kurabilirim ama hepsiy...  \n",
      "3742  Kendimi asla daha iyi hissetmemem gerektiğini ...  \n",
      "\n",
      "[3743 rows x 3 columns]\n"
     ]
    },
    {
     "name": "stderr",
     "output_type": "stream",
     "text": [
      "\n"
     ]
    }
   ],
   "source": [
    "from transformers import MarianMTModel, MarianTokenizer\n",
    "import torch\n",
    "from tqdm import tqdm  # Import tqdm for the progress bar\n",
    "\n",
    "model_name = \"Helsinki-NLP/opus-mt-tc-big-en-tr\"\n",
    "tokenizer = MarianTokenizer.from_pretrained(model_name)\n",
    "model = MarianMTModel.from_pretrained(model_name)\n",
    "\n",
    "device = torch.device(\"cuda\" if torch.cuda.is_available() else \"cpu\")\n",
    "model.to(device)\n",
    "\n",
    "def batch_translate_text(texts, batch_size=8):\n",
    "    translated_texts = []\n",
    "    # Use tqdm to create a progress bar\n",
    "    for i in tqdm(range(0, len(texts), batch_size), desc=\"Translating\"):\n",
    "        batch_texts = texts[i:i + batch_size]\n",
    "        inputs = tokenizer(batch_texts, return_tensors=\"pt\", padding=True, truncation=True).to(device)\n",
    "        translated = model.generate(**inputs)\n",
    "        translated_batch = [tokenizer.decode(t, skip_special_tokens=True) for t in translated]\n",
    "        translated_texts.extend(translated_batch)\n",
    "    return translated_texts\n",
    "\n",
    "# Example data\n",
    "# data = pd.DataFrame({'Text': ['Text 1', 'Text 2', 'Text 3', ...]})\n",
    "texts = data['Text'].tolist()\n",
    "translated_texts = batch_translate_text(texts)\n",
    "\n",
    "data['Translated_Text'] = translated_texts\n",
    "\n",
    "print(data)\n"
   ]
  },
  {
   "cell_type": "code",
   "execution_count": 17,
   "id": "a97f3815-5a4e-42e0-959f-a318e13f1cbe",
   "metadata": {},
   "outputs": [
    {
     "data": {
      "text/html": [
       "<div>\n",
       "<style scoped>\n",
       "    .dataframe tbody tr th:only-of-type {\n",
       "        vertical-align: middle;\n",
       "    }\n",
       "\n",
       "    .dataframe tbody tr th {\n",
       "        vertical-align: top;\n",
       "    }\n",
       "\n",
       "    .dataframe thead th {\n",
       "        text-align: right;\n",
       "    }\n",
       "</style>\n",
       "<table border=\"1\" class=\"dataframe\">\n",
       "  <thead>\n",
       "    <tr style=\"text-align: right;\">\n",
       "      <th></th>\n",
       "      <th>Result</th>\n",
       "      <th>Text</th>\n",
       "      <th>Translated_Text</th>\n",
       "    </tr>\n",
       "  </thead>\n",
       "  <tbody>\n",
       "    <tr>\n",
       "      <th>0</th>\n",
       "      <td>yes</td>\n",
       "      <td>I've always been very hard on myself to be thi...</td>\n",
       "      <td>Bu mükemmel ideal olmak için her zaman kendime...</td>\n",
       "    </tr>\n",
       "    <tr>\n",
       "      <th>1</th>\n",
       "      <td>yes</td>\n",
       "      <td>I struggle a lot with motivation, to do someth...</td>\n",
       "      <td>Motivasyonla çok mücadele ediyorum, hayatımla ...</td>\n",
       "    </tr>\n",
       "    <tr>\n",
       "      <th>2</th>\n",
       "      <td>yes</td>\n",
       "      <td>diagnosed with dysthymia a few months ago. psy...</td>\n",
       "      <td>Birkaç ay önce distimi teşhisi kondu. Psişik t...</td>\n",
       "    </tr>\n",
       "    <tr>\n",
       "      <th>3</th>\n",
       "      <td>yes</td>\n",
       "      <td>I keep cycling randomly through the same half ...</td>\n",
       "      <td>Aynı yarım düzine sayfa ve aramada rastgele bi...</td>\n",
       "    </tr>\n",
       "    <tr>\n",
       "      <th>4</th>\n",
       "      <td>yes</td>\n",
       "      <td>I’ve been feeling actively bad for the past fe...</td>\n",
       "      <td>Sadece meh hissetmek yerine son birkaç haftadı...</td>\n",
       "    </tr>\n",
       "    <tr>\n",
       "      <th>...</th>\n",
       "      <td>...</td>\n",
       "      <td>...</td>\n",
       "      <td>...</td>\n",
       "    </tr>\n",
       "    <tr>\n",
       "      <th>3738</th>\n",
       "      <td>yes</td>\n",
       "      <td>my symptoms are worse than before, low confide...</td>\n",
       "      <td>Belirtilerim eskisinden daha kötü, düşük özgüv...</td>\n",
       "    </tr>\n",
       "    <tr>\n",
       "      <th>3739</th>\n",
       "      <td>yes</td>\n",
       "      <td>It gets worse when they start losing interest ...</td>\n",
       "      <td>Sevdikleri şeylere olan ilgilerini kaybetmeye ...</td>\n",
       "    </tr>\n",
       "    <tr>\n",
       "      <th>3740</th>\n",
       "      <td>yes</td>\n",
       "      <td>I got diagnosed with Dysthymia</td>\n",
       "      <td>Dysthymia teşhisi kondu.</td>\n",
       "    </tr>\n",
       "    <tr>\n",
       "      <th>3741</th>\n",
       "      <td>yes</td>\n",
       "      <td>I can relate to a lot of symptoms but not all ...</td>\n",
       "      <td>Birçok semptomla ilişki kurabilirim ama hepsiy...</td>\n",
       "    </tr>\n",
       "    <tr>\n",
       "      <th>3742</th>\n",
       "      <td>yes</td>\n",
       "      <td>I'm starting to think I should never feel bett...</td>\n",
       "      <td>Kendimi asla daha iyi hissetmemem gerektiğini ...</td>\n",
       "    </tr>\n",
       "  </tbody>\n",
       "</table>\n",
       "<p>3743 rows × 3 columns</p>\n",
       "</div>"
      ],
      "text/plain": [
       "     Result                                               Text  \\\n",
       "0       yes  I've always been very hard on myself to be thi...   \n",
       "1       yes  I struggle a lot with motivation, to do someth...   \n",
       "2       yes  diagnosed with dysthymia a few months ago. psy...   \n",
       "3       yes  I keep cycling randomly through the same half ...   \n",
       "4       yes  I’ve been feeling actively bad for the past fe...   \n",
       "...     ...                                                ...   \n",
       "3738    yes  my symptoms are worse than before, low confide...   \n",
       "3739    yes  It gets worse when they start losing interest ...   \n",
       "3740    yes                     I got diagnosed with Dysthymia   \n",
       "3741    yes  I can relate to a lot of symptoms but not all ...   \n",
       "3742    yes  I'm starting to think I should never feel bett...   \n",
       "\n",
       "                                        Translated_Text  \n",
       "0     Bu mükemmel ideal olmak için her zaman kendime...  \n",
       "1     Motivasyonla çok mücadele ediyorum, hayatımla ...  \n",
       "2     Birkaç ay önce distimi teşhisi kondu. Psişik t...  \n",
       "3     Aynı yarım düzine sayfa ve aramada rastgele bi...  \n",
       "4     Sadece meh hissetmek yerine son birkaç haftadı...  \n",
       "...                                                 ...  \n",
       "3738  Belirtilerim eskisinden daha kötü, düşük özgüv...  \n",
       "3739  Sevdikleri şeylere olan ilgilerini kaybetmeye ...  \n",
       "3740                           Dysthymia teşhisi kondu.  \n",
       "3741  Birçok semptomla ilişki kurabilirim ama hepsiy...  \n",
       "3742  Kendimi asla daha iyi hissetmemem gerektiğini ...  \n",
       "\n",
       "[3743 rows x 3 columns]"
      ]
     },
     "execution_count": 17,
     "metadata": {},
     "output_type": "execute_result"
    }
   ],
   "source": [
    "data"
   ]
  },
  {
   "cell_type": "code",
   "execution_count": 18,
   "id": "e7391591-f677-4722-b195-eb9b786b67a6",
   "metadata": {},
   "outputs": [],
   "source": [
    "data.to_excel(\"depression_reddit_translated.xlsx\", index=False)"
   ]
  },
  {
   "cell_type": "code",
   "execution_count": null,
   "id": "3732e1fc-a12d-4235-b76c-469ecc489d3d",
   "metadata": {},
   "outputs": [],
   "source": []
  },
  {
   "cell_type": "code",
   "execution_count": null,
   "id": "e8c16e8e-fff8-437a-9dc0-ee761637877d",
   "metadata": {},
   "outputs": [],
   "source": []
  }
 ],
 "metadata": {
  "kernelspec": {
   "display_name": "Python 3 (ipykernel)",
   "language": "python",
   "name": "python3"
  },
  "language_info": {
   "codemirror_mode": {
    "name": "ipython",
    "version": 3
   },
   "file_extension": ".py",
   "mimetype": "text/x-python",
   "name": "python",
   "nbconvert_exporter": "python",
   "pygments_lexer": "ipython3",
   "version": "3.10.4"
  }
 },
 "nbformat": 4,
 "nbformat_minor": 5
}
