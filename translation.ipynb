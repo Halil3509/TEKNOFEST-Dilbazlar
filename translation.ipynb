{
 "cells": [
  {
   "cell_type": "code",
   "execution_count": 2,
   "id": "be87c1f3-27f8-40a9-b8c3-6eb08c4624d1",
   "metadata": {},
   "outputs": [],
   "source": [
    "from transformers import AutoTokenizer, AutoModelForSeq2SeqLM\n",
    "import torch\n",
    "import pandas as pd"
   ]
  },
  {
   "cell_type": "code",
   "execution_count": 5,
   "id": "5b993339-a065-4832-a570-f32796666799",
   "metadata": {},
   "outputs": [],
   "source": [
    "data = pd.read_excel(\"anksiyete_translated_to_tr.xlsx\")"
   ]
  },
  {
   "cell_type": "markdown",
   "id": "86024989-34b3-4f01-9fe1-4ac682b7990c",
   "metadata": {},
   "source": [
    "data = pd.read_excel(\"Data/depression_llm_filtered_en.xlsx\")"
   ]
  },
  {
   "cell_type": "code",
   "execution_count": 6,
   "id": "62c9ef8b-fbeb-4f75-8b8c-0f122be83bfe",
   "metadata": {},
   "outputs": [],
   "source": [
    "pd.set_option('display.max_colwidth', None)"
   ]
  },
  {
   "cell_type": "code",
   "execution_count": 7,
   "id": "c974a4c3-5809-45a8-a392-fa4f364883ea",
   "metadata": {},
   "outputs": [
    {
     "name": "stdout",
     "output_type": "stream",
     "text": [
      "<class 'pandas.core.frame.DataFrame'>\n",
      "RangeIndex: 2632 entries, 0 to 2631\n",
      "Data columns (total 3 columns):\n",
      " #   Column           Non-Null Count  Dtype \n",
      "---  ------           --------------  ----- \n",
      " 0   Result           2632 non-null   object\n",
      " 1   Text             2632 non-null   object\n",
      " 2   Translated_Text  2623 non-null   object\n",
      "dtypes: object(3)\n",
      "memory usage: 61.8+ KB\n"
     ]
    }
   ],
   "source": [
    "data.info()"
   ]
  },
  {
   "cell_type": "markdown",
   "id": "63e3c954-1006-42e1-8670-8d2e2aa138a1",
   "metadata": {},
   "source": [
    "data = data[data['Text'].apply(lambda x: isinstance(x, str))]"
   ]
  },
  {
   "cell_type": "markdown",
   "id": "2a70d084-1c20-4306-afaf-bf9ef533a774",
   "metadata": {},
   "source": [
    "data.info()"
   ]
  },
  {
   "cell_type": "code",
   "execution_count": 8,
   "id": "f5ab5a82-218d-4c60-8210-e94bfa447a74",
   "metadata": {},
   "outputs": [
    {
     "data": {
      "text/html": [
       "<div>\n",
       "<style scoped>\n",
       "    .dataframe tbody tr th:only-of-type {\n",
       "        vertical-align: middle;\n",
       "    }\n",
       "\n",
       "    .dataframe tbody tr th {\n",
       "        vertical-align: top;\n",
       "    }\n",
       "\n",
       "    .dataframe thead th {\n",
       "        text-align: right;\n",
       "    }\n",
       "</style>\n",
       "<table border=\"1\" class=\"dataframe\">\n",
       "  <thead>\n",
       "    <tr style=\"text-align: right;\">\n",
       "      <th></th>\n",
       "      <th>Result</th>\n",
       "      <th>Text</th>\n",
       "      <th>Translated_Text</th>\n",
       "    </tr>\n",
       "  </thead>\n",
       "  <tbody>\n",
       "    <tr>\n",
       "      <th>0</th>\n",
       "      <td>yes</td>\n",
       "      <td>My bf is back at work (in retail) and these customers coming in for unnecessary BS is really setting off my anxiety.</td>\n",
       "      <td>Bf'm işe geri döndü (perakende) ve gereksiz BS için gelen bu müşteriler gerçekten endişemi başlatıyor.</td>\n",
       "    </tr>\n",
       "    <tr>\n",
       "      <th>1</th>\n",
       "      <td>yes</td>\n",
       "      <td>I’ve been extremely anxious and have now fully lost my appetite and have not left my bed. I can’t stop imaging if I’ve developed lung cancer... experiencing health issues such as this is causing me to have panic episodes.</td>\n",
       "      <td>Son derece endişeliydim ve şimdi iştahımı tamamen kaybettim ve yatağımdan ayrılmadım. Akciğer kanseri geliştirdiysem görüntülemeyi durduramıyorum... böyle sağlık sorunları yaşamak panik atak geçirmeme neden oluyor.</td>\n",
       "    </tr>\n",
       "    <tr>\n",
       "      <th>2</th>\n",
       "      <td>yes</td>\n",
       "      <td>I have a problem with super repetitive thoughts and worries. one of those is self-pity. self-pity leaks into everything i say, every mannerism i have, my whole personality and choices... it feels like my identity basically... my ego has never really developed beforehand and took a turn for the worse... I never developed a sense of self or could get myself to listen... I tend to outburst a lot... I associate my feelings with my entire identity because i have let them become my identity and i don't know how to undo that... I feel like i have just been raised to hate myself for some reason...</td>\n",
       "      <td>Süper tekrarlayan düşünceler ve endişeler ile ilgili bir sorunum var. Bunlardan biri kendine acıma. Kendi kendine acıma, söylediğim her şeye, sahip olduğum her tavıra, tüm kişiliğime ve seçimlerime sızıyor... Temelde kimliğim gibi geliyor... egom hiçbir zaman gerçekten önceden gelişmedi ve daha kötüsü için bir dönüş yapmadı... Ben asla bir benlik duygusu geliştirmedim ya da kendimi dinlemem için bir neden edinemedim... Duygularımı tüm kimliğimle ilişkilendirmeye meyilliyim...</td>\n",
       "    </tr>\n",
       "    <tr>\n",
       "      <th>3</th>\n",
       "      <td>yes</td>\n",
       "      <td>I have a history of anxiety attacks. I've been struggling from severe health anxiety that doesn't go away even after doing exams. I convinced myself I had HIV that was going to progress to AIDS... I thought I had a fatal illness... I started having bad shortness of breath and palpitations... I panicked nonetheless as I always think there's a possibility I'm a rare case... I felt like I had a clot in my arm and I needed to go to the ER now... I'm still struggling on it, the paranoia is still there.</td>\n",
       "      <td>Anksiyete atakları geçmişim var. Sınavlar yaptıktan sonra bile gitmeyen ciddi sağlık kaygılarından dolayı mücadele ediyorum. AIDS'e ilerleyecek HIV'im olduğuna kendimi ikna ettim. Ölümcül bir hastalığım olduğunu düşündüm... Nefes darlığı ve çarpıntılarım başladı... Sürekli panikledim, hala nadir bir vaka olduğumu düşündüğüm için panikledim... Kolumda bir pıhtı varmış gibi hissettim ve şimdi acil servise gitmek için ihtiyacım var.</td>\n",
       "    </tr>\n",
       "    <tr>\n",
       "      <th>4</th>\n",
       "      <td>no</td>\n",
       "      <td>I went in to my local coffee shop and ordered a mocha latte first time without being nervous. I feel really happy about it. Edit: Wow thank you for the awards. I appreciate it and nice comments</td>\n",
       "      <td>Yerel kahve dükkanıma gittim ve ilk kez sinirlenmeden bir mocha latte sipariş ettim. Bu konuda gerçekten mutluyum. Edit: Wow ödüller için teşekkür ederim. Bunu takdir ediyorum ve güzel yorumlar</td>\n",
       "    </tr>\n",
       "  </tbody>\n",
       "</table>\n",
       "</div>"
      ],
      "text/plain": [
       "  Result  \\\n",
       "0    yes   \n",
       "1    yes   \n",
       "2    yes   \n",
       "3    yes   \n",
       "4     no   \n",
       "\n",
       "                                                                                                                                                                                                                                                                                                                                                                                                                                                                                                                                                                                                                   Text  \\\n",
       "0                                                                                                                                                                                                                                                                                                                                                                                                                                                                                                  My bf is back at work (in retail) and these customers coming in for unnecessary BS is really setting off my anxiety.   \n",
       "1                                                                                                                                                                                                                                                                                                                                                                                         I’ve been extremely anxious and have now fully lost my appetite and have not left my bed. I can’t stop imaging if I’ve developed lung cancer... experiencing health issues such as this is causing me to have panic episodes.   \n",
       "2  I have a problem with super repetitive thoughts and worries. one of those is self-pity. self-pity leaks into everything i say, every mannerism i have, my whole personality and choices... it feels like my identity basically... my ego has never really developed beforehand and took a turn for the worse... I never developed a sense of self or could get myself to listen... I tend to outburst a lot... I associate my feelings with my entire identity because i have let them become my identity and i don't know how to undo that... I feel like i have just been raised to hate myself for some reason...   \n",
       "3                                                                                                I have a history of anxiety attacks. I've been struggling from severe health anxiety that doesn't go away even after doing exams. I convinced myself I had HIV that was going to progress to AIDS... I thought I had a fatal illness... I started having bad shortness of breath and palpitations... I panicked nonetheless as I always think there's a possibility I'm a rare case... I felt like I had a clot in my arm and I needed to go to the ER now... I'm still struggling on it, the paranoia is still there.   \n",
       "4                                                                                                                                                                                                                                                                                                                                                                                                                     I went in to my local coffee shop and ordered a mocha latte first time without being nervous. I feel really happy about it. Edit: Wow thank you for the awards. I appreciate it and nice comments   \n",
       "\n",
       "                                                                                                                                                                                                                                                                                                                                                                                                                                                                                    Translated_Text  \n",
       "0                                                                                                                                                                                                                                                                                                                                                                                            Bf'm işe geri döndü (perakende) ve gereksiz BS için gelen bu müşteriler gerçekten endişemi başlatıyor.  \n",
       "1                                                                                                                                                                                                                                                                            Son derece endişeliydim ve şimdi iştahımı tamamen kaybettim ve yatağımdan ayrılmadım. Akciğer kanseri geliştirdiysem görüntülemeyi durduramıyorum... böyle sağlık sorunları yaşamak panik atak geçirmeme neden oluyor.  \n",
       "2  Süper tekrarlayan düşünceler ve endişeler ile ilgili bir sorunum var. Bunlardan biri kendine acıma. Kendi kendine acıma, söylediğim her şeye, sahip olduğum her tavıra, tüm kişiliğime ve seçimlerime sızıyor... Temelde kimliğim gibi geliyor... egom hiçbir zaman gerçekten önceden gelişmedi ve daha kötüsü için bir dönüş yapmadı... Ben asla bir benlik duygusu geliştirmedim ya da kendimi dinlemem için bir neden edinemedim... Duygularımı tüm kimliğimle ilişkilendirmeye meyilliyim...  \n",
       "3                                                 Anksiyete atakları geçmişim var. Sınavlar yaptıktan sonra bile gitmeyen ciddi sağlık kaygılarından dolayı mücadele ediyorum. AIDS'e ilerleyecek HIV'im olduğuna kendimi ikna ettim. Ölümcül bir hastalığım olduğunu düşündüm... Nefes darlığı ve çarpıntılarım başladı... Sürekli panikledim, hala nadir bir vaka olduğumu düşündüğüm için panikledim... Kolumda bir pıhtı varmış gibi hissettim ve şimdi acil servise gitmek için ihtiyacım var.  \n",
       "4                                                                                                                                                                                                                                                                                                 Yerel kahve dükkanıma gittim ve ilk kez sinirlenmeden bir mocha latte sipariş ettim. Bu konuda gerçekten mutluyum. Edit: Wow ödüller için teşekkür ederim. Bunu takdir ediyorum ve güzel yorumlar  "
      ]
     },
     "execution_count": 8,
     "metadata": {},
     "output_type": "execute_result"
    }
   ],
   "source": [
    "data.head()"
   ]
  },
  {
   "cell_type": "code",
   "execution_count": 6,
   "id": "be2d2024-dea5-481c-a32e-b0742c88a876",
   "metadata": {},
   "outputs": [
    {
     "data": {
      "text/html": [
       "<div>\n",
       "<style scoped>\n",
       "    .dataframe tbody tr th:only-of-type {\n",
       "        vertical-align: middle;\n",
       "    }\n",
       "\n",
       "    .dataframe tbody tr th {\n",
       "        vertical-align: top;\n",
       "    }\n",
       "\n",
       "    .dataframe thead th {\n",
       "        text-align: right;\n",
       "    }\n",
       "</style>\n",
       "<table border=\"1\" class=\"dataframe\">\n",
       "  <thead>\n",
       "    <tr style=\"text-align: right;\">\n",
       "      <th></th>\n",
       "      <th>clean_text</th>\n",
       "      <th>is_depression</th>\n",
       "    </tr>\n",
       "  </thead>\n",
       "  <tbody>\n",
       "    <tr>\n",
       "      <th>3831</th>\n",
       "      <td>switchfoot http twitpic com y zl awww that s a bummer you shoulda got david carr of third day to do it d</td>\n",
       "      <td>0</td>\n",
       "    </tr>\n",
       "    <tr>\n",
       "      <th>3832</th>\n",
       "      <td>is upset that he can t update his facebook by texting it and might cry a a result school today also blah</td>\n",
       "      <td>0</td>\n",
       "    </tr>\n",
       "    <tr>\n",
       "      <th>3833</th>\n",
       "      <td>kenichan i dived many time for the ball managed to save 0 the rest go out of bound</td>\n",
       "      <td>0</td>\n",
       "    </tr>\n",
       "    <tr>\n",
       "      <th>3834</th>\n",
       "      <td>my whole body feel itchy and like it on fire</td>\n",
       "      <td>0</td>\n",
       "    </tr>\n",
       "    <tr>\n",
       "      <th>3835</th>\n",
       "      <td>nationwideclass no it s not behaving at all i m mad why am i here because i can t see you all over there</td>\n",
       "      <td>0</td>\n",
       "    </tr>\n",
       "    <tr>\n",
       "      <th>...</th>\n",
       "      <td>...</td>\n",
       "      <td>...</td>\n",
       "    </tr>\n",
       "    <tr>\n",
       "      <th>7726</th>\n",
       "      <td>is that snow</td>\n",
       "      <td>0</td>\n",
       "    </tr>\n",
       "    <tr>\n",
       "      <th>7727</th>\n",
       "      <td>moulin rouge mad me cry once again</td>\n",
       "      <td>0</td>\n",
       "    </tr>\n",
       "    <tr>\n",
       "      <th>7728</th>\n",
       "      <td>trying to shout but can t find people on the list</td>\n",
       "      <td>0</td>\n",
       "    </tr>\n",
       "    <tr>\n",
       "      <th>7729</th>\n",
       "      <td>ughh can t find my red sox hat got ta wear this creepy nick pirro version</td>\n",
       "      <td>0</td>\n",
       "    </tr>\n",
       "    <tr>\n",
       "      <th>7730</th>\n",
       "      <td>slept wonderfully finally tried swatching for new project classic line cardi from stash but don t like color must wait for now</td>\n",
       "      <td>0</td>\n",
       "    </tr>\n",
       "  </tbody>\n",
       "</table>\n",
       "<p>3900 rows × 2 columns</p>\n",
       "</div>"
      ],
      "text/plain": [
       "                                                                                                                          clean_text  \\\n",
       "3831                        switchfoot http twitpic com y zl awww that s a bummer you shoulda got david carr of third day to do it d   \n",
       "3832                        is upset that he can t update his facebook by texting it and might cry a a result school today also blah   \n",
       "3833                                              kenichan i dived many time for the ball managed to save 0 the rest go out of bound   \n",
       "3834                                                                                    my whole body feel itchy and like it on fire   \n",
       "3835                        nationwideclass no it s not behaving at all i m mad why am i here because i can t see you all over there   \n",
       "...                                                                                                                              ...   \n",
       "7726                                                                                                                    is that snow   \n",
       "7727                                                                                              moulin rouge mad me cry once again   \n",
       "7728                                                                               trying to shout but can t find people on the list   \n",
       "7729                                                       ughh can t find my red sox hat got ta wear this creepy nick pirro version   \n",
       "7730  slept wonderfully finally tried swatching for new project classic line cardi from stash but don t like color must wait for now   \n",
       "\n",
       "      is_depression  \n",
       "3831              0  \n",
       "3832              0  \n",
       "3833              0  \n",
       "3834              0  \n",
       "3835              0  \n",
       "...             ...  \n",
       "7726              0  \n",
       "7727              0  \n",
       "7728              0  \n",
       "7729              0  \n",
       "7730              0  \n",
       "\n",
       "[3900 rows x 2 columns]"
      ]
     },
     "execution_count": 6,
     "metadata": {},
     "output_type": "execute_result"
    }
   ],
   "source": [
    "data[data[\"is_depression\"]==0]"
   ]
  },
  {
   "cell_type": "code",
   "execution_count": null,
   "id": "c4922343-4e2a-45bc-990a-63dd58f6f1f5",
   "metadata": {},
   "outputs": [
    {
     "name": "stderr",
     "output_type": "stream",
     "text": [
      "C:\\Users\\ensar\\Desktop\\dogaldilisleme\\lib\\site-packages\\transformers\\models\\marian\\tokenization_marian.py:175: UserWarning: Recommended: pip install sacremoses.\n",
      "  warnings.warn(\"Recommended: pip install sacremoses.\")\n"
     ]
    }
   ],
   "source": [
    "from transformers import MarianMTModel, MarianTokenizer\n",
    "\n",
    "model_name = \"Helsinki-NLP/opus-mt-tc-big-en-tr\"\n",
    "tokenizer = MarianTokenizer.from_pretrained(model_name)\n",
    "model = MarianMTModel.from_pretrained(model_name)\n",
    "\n",
    "device = torch.device(\"cuda\" if torch.cuda.is_available() else \"cpu\")\n",
    "model.to(device)\n",
    "\n",
    "def batch_translate_text(texts, batch_size=8):\n",
    "    translated_texts = []\n",
    "    for i in range(0, len(texts), batch_size):\n",
    "        batch_texts = texts[i:i + batch_size]\n",
    "        inputs = tokenizer(batch_texts, return_tensors=\"pt\", padding=True, truncation=True).to(device)\n",
    "        translated = model.generate(**inputs)\n",
    "        translated_batch = [tokenizer.decode(t, skip_special_tokens=True) for t in translated]\n",
    "        translated_texts.extend(translated_batch)\n",
    "    return translated_texts\n",
    "\n",
    "texts = data['clean_text'].tolist()\n",
    "translated_texts = batch_translate_text(texts)\n",
    "\n",
    "data['Translated_Text'] = translated_texts\n",
    "\n",
    "print(data)"
   ]
  },
  {
   "cell_type": "code",
   "execution_count": null,
   "id": "a97f3815-5a4e-42e0-959f-a318e13f1cbe",
   "metadata": {},
   "outputs": [],
   "source": [
    "data"
   ]
  },
  {
   "cell_type": "code",
   "execution_count": null,
   "id": "afb9739f-e23f-475e-80fa-fbcb4e5f4b81",
   "metadata": {},
   "outputs": [],
   "source": [
    "data.to_excel(\"depression_translated_to_tr.xlsx\", index=False)"
   ]
  },
  {
   "cell_type": "code",
   "execution_count": null,
   "id": "3732e1fc-a12d-4235-b76c-469ecc489d3d",
   "metadata": {},
   "outputs": [],
   "source": []
  },
  {
   "cell_type": "code",
   "execution_count": null,
   "id": "e8c16e8e-fff8-437a-9dc0-ee761637877d",
   "metadata": {},
   "outputs": [],
   "source": []
  }
 ],
 "metadata": {
  "kernelspec": {
   "display_name": "Python 3 (ipykernel)",
   "language": "python",
   "name": "python3"
  },
  "language_info": {
   "codemirror_mode": {
    "name": "ipython",
    "version": 3
   },
   "file_extension": ".py",
   "mimetype": "text/x-python",
   "name": "python",
   "nbconvert_exporter": "python",
   "pygments_lexer": "ipython3",
   "version": "3.10.2"
  }
 },
 "nbformat": 4,
 "nbformat_minor": 5
}
