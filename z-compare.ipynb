{
 "cells": [
  {
   "cell_type": "code",
   "execution_count": 1,
   "metadata": {},
   "outputs": [],
   "source": [
    "import pandas as pd\n",
    "from tqdm import tqdm\n",
    "import sys\n"
   ]
  },
  {
   "cell_type": "code",
   "execution_count": 2,
   "metadata": {},
   "outputs": [],
   "source": [
    "new_data = pd.read_csv(\"Data\\PMDD_llm_filtered_en.csv\")\n",
    "\n",
    "new_data = new_data[new_data[\"Result\"]== \"yes\"]\n"
   ]
  },
  {
   "cell_type": "code",
   "execution_count": 3,
   "metadata": {},
   "outputs": [],
   "source": [
    "ex_data  = pd.read_excel(\"Data\\pmdd_expurgated.xlsx\")"
   ]
  },
  {
   "cell_type": "code",
   "execution_count": 4,
   "metadata": {},
   "outputs": [],
   "source": [
    "pd.set_option('display.max_colwidth', None)"
   ]
  },
  {
   "cell_type": "code",
   "execution_count": 5,
   "metadata": {},
   "outputs": [
    {
     "name": "stdout",
     "output_type": "stream",
     "text": [
      "<class 'pandas.core.frame.DataFrame'>\n",
      "Index: 1845 entries, 0 to 2540\n",
      "Data columns (total 2 columns):\n",
      " #   Column  Non-Null Count  Dtype \n",
      "---  ------  --------------  ----- \n",
      " 0   Result  1845 non-null   object\n",
      " 1   Text    1845 non-null   object\n",
      "dtypes: object(2)\n",
      "memory usage: 43.2+ KB\n"
     ]
    }
   ],
   "source": [
    "new_data.info()"
   ]
  },
  {
   "cell_type": "code",
   "execution_count": 6,
   "metadata": {},
   "outputs": [],
   "source": [
    "filtered_new_df = new_data[~new_data['Text'].isin(ex_data['Text'])]"
   ]
  },
  {
   "cell_type": "code",
   "execution_count": 7,
   "metadata": {},
   "outputs": [
    {
     "data": {
      "text/html": [
       "<div>\n",
       "<style scoped>\n",
       "    .dataframe tbody tr th:only-of-type {\n",
       "        vertical-align: middle;\n",
       "    }\n",
       "\n",
       "    .dataframe tbody tr th {\n",
       "        vertical-align: top;\n",
       "    }\n",
       "\n",
       "    .dataframe thead th {\n",
       "        text-align: right;\n",
       "    }\n",
       "</style>\n",
       "<table border=\"1\" class=\"dataframe\">\n",
       "  <thead>\n",
       "    <tr style=\"text-align: right;\">\n",
       "      <th></th>\n",
       "      <th>Result</th>\n",
       "      <th>Text</th>\n",
       "    </tr>\n",
       "  </thead>\n",
       "  <tbody>\n",
       "    <tr>\n",
       "      <th>0</th>\n",
       "      <td>yes</td>\n",
       "      <td>It makes me suspect it was pivotally detrimental to my hormonal health and could have been the foundation for the symptoms I experience today, nearly ten years later.</td>\n",
       "    </tr>\n",
       "    <tr>\n",
       "      <th>1</th>\n",
       "      <td>yes</td>\n",
       "      <td>I'm 'again in PMDD', like of course my cycle repeats</td>\n",
       "    </tr>\n",
       "    <tr>\n",
       "      <th>2</th>\n",
       "      <td>yes</td>\n",
       "      <td>I'm feeling fine and I'm like so I really need to do this??! ...my moods usually kick in around 7-10 days prior to coming on, and I'm already t minus 7 days.</td>\n",
       "    </tr>\n",
       "    <tr>\n",
       "      <th>3</th>\n",
       "      <td>yes</td>\n",
       "      <td>I'm so sad and moody... I feel like I haven't felt joy in so long... I'm no where close to it being over. It sucks when I feel like I'm doing a lot to feel good and it's still not working. I just have to accept that I feel sad and anxious and worst of all, SO TIRED.</td>\n",
       "    </tr>\n",
       "    <tr>\n",
       "      <th>4</th>\n",
       "      <td>yes</td>\n",
       "      <td>After several appointments I have finally been given the green light to have my uterus and lady balls removed.</td>\n",
       "    </tr>\n",
       "    <tr>\n",
       "      <th>...</th>\n",
       "      <td>...</td>\n",
       "      <td>...</td>\n",
       "    </tr>\n",
       "    <tr>\n",
       "      <th>2534</th>\n",
       "      <td>yes</td>\n",
       "      <td>I sometimes feel apathy towards everyone and everything. It's a general IDGAF. I don't even care if I die.</td>\n",
       "    </tr>\n",
       "    <tr>\n",
       "      <th>2536</th>\n",
       "      <td>yes</td>\n",
       "      <td>I eat a lot during luteal and I never questioned it until my partner asked me whether overeating could be bad for my overall regulation</td>\n",
       "    </tr>\n",
       "    <tr>\n",
       "      <th>2538</th>\n",
       "      <td>yes</td>\n",
       "      <td>I'm still fucking fuming. I feel horribly disgusting. What a gross person I have to be. I'm close to tears hearing them in the next room; I'm FURIOUS and feel like I should just kill myself. I feel so horrible and disrespected and like my house isn't my own. I feel genuinely insane and don't know what to do. This luteal hurts on a level I never thought it would hurt before. I'm miserable and hurting and sick and tired of all this.</td>\n",
       "    </tr>\n",
       "    <tr>\n",
       "      <th>2539</th>\n",
       "      <td>yes</td>\n",
       "      <td>pmdd flares get so much worst when they're in a relationship</td>\n",
       "    </tr>\n",
       "    <tr>\n",
       "      <th>2540</th>\n",
       "      <td>yes</td>\n",
       "      <td>I started to cry and become overwhelmed with grief... I felt completely hopeless and overwhelmed. I started have suicidal ideations more intense then I’ve ever had them during PMDD. I got really scared and was considering contacting Lifeline because I felt a strong desire to attempt. I felt like I wasn’t in my head. Like I was a different person. My mind kept screaming to just go to bed.</td>\n",
       "    </tr>\n",
       "  </tbody>\n",
       "</table>\n",
       "<p>1628 rows × 2 columns</p>\n",
       "</div>"
      ],
      "text/plain": [
       "     Result  \\\n",
       "0       yes   \n",
       "1       yes   \n",
       "2       yes   \n",
       "3       yes   \n",
       "4       yes   \n",
       "...     ...   \n",
       "2534    yes   \n",
       "2536    yes   \n",
       "2538    yes   \n",
       "2539    yes   \n",
       "2540    yes   \n",
       "\n",
       "                                                                                                                                                                                                                                                                                                                                                                                                                                                    Text  \n",
       "0                                                                                                                                                                                                                                                                                 It makes me suspect it was pivotally detrimental to my hormonal health and could have been the foundation for the symptoms I experience today, nearly ten years later.  \n",
       "1                                                                                                                                                                                                                                                                                                                                                                                                   I'm 'again in PMDD', like of course my cycle repeats  \n",
       "2                                                                                                                                                                                                                                                                                          I'm feeling fine and I'm like so I really need to do this??! ...my moods usually kick in around 7-10 days prior to coming on, and I'm already t minus 7 days.  \n",
       "3                                                                                                                                                                             I'm so sad and moody... I feel like I haven't felt joy in so long... I'm no where close to it being over. It sucks when I feel like I'm doing a lot to feel good and it's still not working. I just have to accept that I feel sad and anxious and worst of all, SO TIRED.  \n",
       "4                                                                                                                                                                                                                                                                                                                                         After several appointments I have finally been given the green light to have my uterus and lady balls removed.  \n",
       "...                                                                                                                                                                                                                                                                                                                                                                                                                                                  ...  \n",
       "2534                                                                                                                                                                                                                                                                                                                                          I sometimes feel apathy towards everyone and everything. It's a general IDGAF. I don't even care if I die.  \n",
       "2536                                                                                                                                                                                                                                                                                                             I eat a lot during luteal and I never questioned it until my partner asked me whether overeating could be bad for my overall regulation  \n",
       "2538  I'm still fucking fuming. I feel horribly disgusting. What a gross person I have to be. I'm close to tears hearing them in the next room; I'm FURIOUS and feel like I should just kill myself. I feel so horrible and disrespected and like my house isn't my own. I feel genuinely insane and don't know what to do. This luteal hurts on a level I never thought it would hurt before. I'm miserable and hurting and sick and tired of all this.  \n",
       "2539                                                                                                                                                                                                                                                                                                                                                                                        pmdd flares get so much worst when they're in a relationship  \n",
       "2540                                              I started to cry and become overwhelmed with grief... I felt completely hopeless and overwhelmed. I started have suicidal ideations more intense then I’ve ever had them during PMDD. I got really scared and was considering contacting Lifeline because I felt a strong desire to attempt. I felt like I wasn’t in my head. Like I was a different person. My mind kept screaming to just go to bed.  \n",
       "\n",
       "[1628 rows x 2 columns]"
      ]
     },
     "execution_count": 7,
     "metadata": {},
     "output_type": "execute_result"
    }
   ],
   "source": [
    "filtered_new_df"
   ]
  },
  {
   "cell_type": "code",
   "execution_count": 8,
   "metadata": {},
   "outputs": [],
   "source": [
    "filtered_new_df.to_csv(\"data/pmdd_last.csv\", index=False)"
   ]
  },
  {
   "cell_type": "code",
   "execution_count": null,
   "metadata": {},
   "outputs": [],
   "source": []
  }
 ],
 "metadata": {
  "kernelspec": {
   "display_name": "Python 3",
   "language": "python",
   "name": "python3"
  },
  "language_info": {
   "codemirror_mode": {
    "name": "ipython",
    "version": 3
   },
   "file_extension": ".py",
   "mimetype": "text/x-python",
   "name": "python",
   "nbconvert_exporter": "python",
   "pygments_lexer": "ipython3",
   "version": "3.10.4"
  }
 },
 "nbformat": 4,
 "nbformat_minor": 2
}
